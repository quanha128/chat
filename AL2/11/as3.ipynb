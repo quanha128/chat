{
 "metadata": {
  "language_info": {
   "codemirror_mode": {
    "name": "ipython",
    "version": 3
   },
   "file_extension": ".py",
   "mimetype": "text/x-python",
   "name": "python",
   "nbconvert_exporter": "python",
   "pygments_lexer": "ipython3",
   "version": "3.8.5"
  },
  "orig_nbformat": 2,
  "kernelspec": {
   "name": "python3",
   "display_name": "Python 3.8.5 64-bit"
  },
  "metadata": {
   "interpreter": {
    "hash": "31f2aee4e71d21fbe5cf8b01ff0e069b9275f58929596ceb00d14d90e3e16cd6"
   }
  },
  "interpreter": {
   "hash": "916dbcbb3f70747c44a77c7bcd40155683ae19c65e1c03b4aa3499c5328201f1"
  }
 },
 "nbformat": 4,
 "nbformat_minor": 2,
 "cells": [
  {
   "cell_type": "code",
   "execution_count": 1,
   "metadata": {},
   "outputs": [],
   "source": [
    "import networkx as nx\r\n",
    "import numpy as np\r\n",
    "import queue"
   ]
  },
  {
   "cell_type": "code",
   "execution_count": 2,
   "metadata": {},
   "outputs": [],
   "source": [
    "G = nx.read_weighted_edgelist('ff.edgelist', create_using=nx.DiGraph(), nodetype=int)"
   ]
  },
  {
   "cell_type": "code",
   "execution_count": 3,
   "metadata": {},
   "outputs": [],
   "source": [
    "def find_augmentpath(N, s, t):\n",
    "    P = [-1]*nx.number_of_nodes(N)\n",
    "    visited = set()\n",
    "    stack = queue.LifoQueue()\n",
    "    stack.put(s)\n",
    "    while not stack.empty():\n",
    "        v = stack.get()\n",
    "        if v == t:\n",
    "            return (P, True)\n",
    "        if not v in visited:\n",
    "            visited.add(v)\n",
    "        for w in N.neighbors(v):\n",
    "            if w not in visited and N.edges[v, w]['weight'] > 0:\n",
    "                stack.put(w)\n",
    "                P[w] = v\n",
    "    return (P, False)"
   ]
  },
  {
   "cell_type": "code",
   "execution_count": 4,
   "metadata": {},
   "outputs": [
    {
     "output_type": "execute_result",
     "data": {
      "text/plain": [
       "([-1, 2, 0, 4, 2, 4], True)"
      ]
     },
     "metadata": {},
     "execution_count": 4
    }
   ],
   "source": [
    "find_augmentpath(G, 0, 5)"
   ]
  },
  {
   "cell_type": "code",
   "execution_count": 5,
   "metadata": {},
   "outputs": [],
   "source": [
    "def min_capacity(N, path):\n",
    "    min_cap = float('inf')\n",
    "    for u,v in path:\n",
    "        capacity = N.edges[u,v]['weight']\n",
    "        if capacity < min_cap:\n",
    "            min_cap = capacity\n",
    "    return min_cap"
   ]
  },
  {
   "cell_type": "code",
   "execution_count": 6,
   "metadata": {},
   "outputs": [],
   "source": [
    "def restore_shortestpath(u, v, P):\n",
    "    path = []\n",
    "    temp = v\n",
    "    while temp != u:\n",
    "        parent = P[temp]\n",
    "        path.append((parent, temp))\n",
    "        temp = parent\n",
    "    path.reverse()\n",
    "    return path"
   ]
  },
  {
   "cell_type": "code",
   "execution_count": 7,
   "metadata": {},
   "outputs": [],
   "source": [
    "def increase_flow(N, path, amount, f):\n",
    "    for (u,v) in path:\n",
    "        if f[v,u] <= 0:\n",
    "            f[(u,v)] += amount\n",
    "        else:\n",
    "            diff = f[(v, u)] - amount\n",
    "            if diff >= 0:\n",
    "                f[(v, u)] = diff\n",
    "            else:\n",
    "                f[(u, v)] = -diff\n",
    "                f[(v, u)] = 0\n",
    "\n",
    "        N.edges[u,v]['weight'] -= amount\n",
    "        if N.has_edge(v,u):\n",
    "            N.edges[v,u]['weight'] += amount\n",
    "        else:\n",
    "            N.add_edge(v, u, weight=amount)\n"
   ]
  },
  {
   "cell_type": "code",
   "execution_count": 8,
   "metadata": {},
   "outputs": [],
   "source": [
    "def my_Ford_Fulkerson(G, s, t):\n",
    "    N = G.copy()\n",
    "    f = {}\n",
    "    for u,v in N.edges:\n",
    "        f[(u,v)] = 0\n",
    "        f[(v,u)] = 0\n",
    "    P, is_found = find_augmentpath(N,s,t)\n",
    "    while is_found:\n",
    "        augmentpath = restore_shortestpath(s,t,P)\n",
    "        min_cap = min_capacity(N, augmentpath)\n",
    "        increase_flow(N, augmentpath, min_cap, f)\n",
    "        P, is_found = find_augmentpath(N,s,t)\n",
    "    return N, f"
   ]
  },
  {
   "cell_type": "code",
   "execution_count": 9,
   "metadata": {},
   "outputs": [
    {
     "output_type": "display_data",
     "data": {
      "text/plain": "<Figure size 432x288 with 1 Axes>",
      "image/svg+xml": "<?xml version=\"1.0\" encoding=\"utf-8\" standalone=\"no\"?>\n<!DOCTYPE svg PUBLIC \"-//W3C//DTD SVG 1.1//EN\"\n  \"http://www.w3.org/Graphics/SVG/1.1/DTD/svg11.dtd\">\n<svg height=\"231.84pt\" version=\"1.1\" viewBox=\"0 0 349.2 231.84\" width=\"349.2pt\" xmlns=\"http://www.w3.org/2000/svg\" xmlns:xlink=\"http://www.w3.org/1999/xlink\">\n <metadata>\n  <rdf:RDF xmlns:cc=\"http://creativecommons.org/ns#\" xmlns:dc=\"http://purl.org/dc/elements/1.1/\" xmlns:rdf=\"http://www.w3.org/1999/02/22-rdf-syntax-ns#\">\n   <cc:Work>\n    <dc:type rdf:resource=\"http://purl.org/dc/dcmitype/StillImage\"/>\n    <dc:date>2021-07-03T00:58:19.132853</dc:date>\n    <dc:format>image/svg+xml</dc:format>\n    <dc:creator>\n     <cc:Agent>\n      <dc:title>Matplotlib v3.4.2, https://matplotlib.org/</dc:title>\n     </cc:Agent>\n    </dc:creator>\n   </cc:Work>\n  </rdf:RDF>\n </metadata>\n <defs>\n  <style type=\"text/css\">*{stroke-linecap:butt;stroke-linejoin:round;}</style>\n </defs>\n <g id=\"figure_1\">\n  <g id=\"patch_1\">\n   <path d=\"M 0 231.84 \nL 349.2 231.84 \nL 349.2 0 \nL 0 0 \nz\n\" style=\"fill:none;\"/>\n  </g>\n  <g id=\"axes_1\">\n   <g id=\"patch_2\">\n    <path d=\"M 7.2 224.64 \nL 342 224.64 \nL 342 7.2 \nL 7.2 7.2 \nz\n\" style=\"fill:#ffffff;\"/>\n   </g>\n   <g id=\"patch_3\">\n    <path clip-path=\"url(#p5ce1a896c0)\" d=\"M 43.670728 109.570593 \nQ 119.866189 155.437499 195.103774 200.727797 \n\" style=\"fill:none;stroke:#000000;stroke-linecap:round;\"/>\n    <path clip-path=\"url(#p5ce1a896c0)\" d=\"M 192.708239 196.951369 \nL 195.103774 200.727797 \nL 190.64531 200.378368 \nL 192.708239 196.951369 \nz\n\" style=\"stroke:#000000;stroke-linecap:round;\"/>\n   </g>\n   <g id=\"patch_4\">\n    <path clip-path=\"url(#p5ce1a896c0)\" d=\"M 44.865262 105.983493 \nQ 96.271573 111.22518 146.565617 116.353454 \n\" style=\"fill:none;stroke:#000000;stroke-linecap:round;\"/>\n    <path clip-path=\"url(#p5ce1a896c0)\" d=\"M 142.78913 113.958012 \nL 146.565617 116.353454 \nL 142.383371 117.937378 \nL 142.78913 113.958012 \nz\n\" style=\"stroke:#000000;stroke-linecap:round;\"/>\n   </g>\n   <g id=\"patch_5\">\n    <path clip-path=\"url(#p5ce1a896c0)\" d=\"M 199.405022 198.131643 \nQ 179.886845 161.558539 160.895065 125.971796 \n\" style=\"fill:none;stroke:#000000;stroke-linecap:round;\"/>\n    <path clip-path=\"url(#p5ce1a896c0)\" d=\"M 161.013904 130.442352 \nL 160.895065 125.971796 \nL 164.542814 128.559059 \nL 161.013904 130.442352 \nz\n\" style=\"stroke:#000000;stroke-linecap:round;\"/>\n   </g>\n   <g id=\"patch_6\">\n    <path clip-path=\"url(#p5ce1a896c0)\" d=\"M 209.817023 199.865263 \nQ 226.332925 184.467701 242.031056 169.832537 \n\" style=\"fill:none;stroke:#000000;stroke-linecap:round;\"/>\n    <path clip-path=\"url(#p5ce1a896c0)\" d=\"M 237.74149 171.0973 \nL 242.031056 169.832537 \nL 240.469127 174.023048 \nL 237.74149 171.0973 \nz\n\" style=\"stroke:#000000;stroke-linecap:round;\"/>\n   </g>\n   <g id=\"patch_7\">\n    <path clip-path=\"url(#p5ce1a896c0)\" d=\"M 196.064254 201.305972 \nQ 119.868793 155.439066 44.631208 110.148768 \n\" style=\"fill:none;stroke:#000000;stroke-linecap:round;\"/>\n    <path clip-path=\"url(#p5ce1a896c0)\" d=\"M 47.026743 113.925196 \nL 44.631208 110.148768 \nL 49.089672 110.498197 \nL 47.026743 113.925196 \nz\n\" style=\"stroke:#000000;stroke-linecap:round;\"/>\n   </g>\n   <g id=\"patch_8\">\n    <path clip-path=\"url(#p5ce1a896c0)\" d=\"M 160.368293 124.984731 \nQ 179.886469 161.557835 198.878249 197.144578 \n\" style=\"fill:none;stroke:#000000;stroke-linecap:round;\"/>\n    <path clip-path=\"url(#p5ce1a896c0)\" d=\"M 198.759411 192.674021 \nL 198.878249 197.144578 \nL 195.230501 194.557315 \nL 198.759411 192.674021 \nz\n\" style=\"stroke:#000000;stroke-linecap:round;\"/>\n   </g>\n   <g id=\"patch_9\">\n    <path clip-path=\"url(#p5ce1a896c0)\" d=\"M 162.431134 111.242029 \nQ 202.203317 71.708251 241.182557 32.962663 \n\" style=\"fill:none;stroke:#000000;stroke-linecap:round;\"/>\n    <path clip-path=\"url(#p5ce1a896c0)\" d=\"M 236.935684 34.364116 \nL 241.182557 32.962663 \nL 239.755596 37.201033 \nL 236.935684 34.364116 \nz\n\" style=\"stroke:#000000;stroke-linecap:round;\"/>\n   </g>\n   <g id=\"patch_10\">\n    <path clip-path=\"url(#p5ce1a896c0)\" d=\"M 147.678856 116.466967 \nQ 96.272545 111.225279 45.978501 106.097005 \n\" style=\"fill:none;stroke:#000000;stroke-linecap:round;\"/>\n    <path clip-path=\"url(#p5ce1a896c0)\" d=\"M 49.754988 108.492448 \nL 45.978501 106.097005 \nL 50.160747 104.513081 \nL 49.754988 108.492448 \nz\n\" style=\"stroke:#000000;stroke-linecap:round;\"/>\n   </g>\n   <g id=\"patch_11\">\n    <path clip-path=\"url(#p5ce1a896c0)\" d=\"M 241.420328 159.333107 \nQ 202.738389 140.25413 165.059152 121.669712 \n\" style=\"fill:none;stroke:#000000;stroke-linecap:round;\"/>\n    <path clip-path=\"url(#p5ce1a896c0)\" d=\"M 167.761832 125.23279 \nL 165.059152 121.669712 \nL 169.531222 121.645415 \nL 167.761832 125.23279 \nz\n\" style=\"stroke:#000000;stroke-linecap:round;\"/>\n   </g>\n   <g id=\"patch_12\">\n    <path clip-path=\"url(#p5ce1a896c0)\" d=\"M 257.781927 162.108593 \nQ 281.066522 159.25297 303.241397 156.533443 \n\" style=\"fill:none;stroke:#000000;stroke-linecap:round;\"/>\n    <path clip-path=\"url(#p5ce1a896c0)\" d=\"M 299.027687 155.035228 \nL 303.241397 156.533443 \nL 299.514599 159.005482 \nL 299.027687 155.035228 \nz\n\" style=\"stroke:#000000;stroke-linecap:round;\"/>\n   </g>\n   <g id=\"patch_13\">\n    <path clip-path=\"url(#p5ce1a896c0)\" d=\"M 249.117733 154.506663 \nQ 248.651579 94.616925 248.194128 35.845187 \n\" style=\"fill:none;stroke:#000000;stroke-linecap:round;\"/>\n    <path clip-path=\"url(#p5ce1a896c0)\" d=\"M 246.225321 39.860633 \nL 248.194128 35.845187 \nL 250.2252 39.829499 \nL 246.225321 39.860633 \nz\n\" style=\"stroke:#000000;stroke-linecap:round;\"/>\n   </g>\n   <g id=\"patch_14\">\n    <path clip-path=\"url(#p5ce1a896c0)\" d=\"M 242.850175 169.068883 \nQ 226.334273 184.466445 210.636142 199.101609 \n\" style=\"fill:none;stroke:#000000;stroke-linecap:round;\"/>\n    <path clip-path=\"url(#p5ce1a896c0)\" d=\"M 214.925708 197.836846 \nL 210.636142 199.101609 \nL 212.198072 194.911098 \nL 214.925708 197.836846 \nz\n\" style=\"stroke:#000000;stroke-linecap:round;\"/>\n   </g>\n   <g id=\"patch_15\">\n    <path clip-path=\"url(#p5ce1a896c0)\" d=\"M 248.185409 34.725004 \nQ 248.651562 94.614742 249.109014 153.386479 \n\" style=\"fill:none;stroke:#000000;stroke-linecap:round;\"/>\n    <path clip-path=\"url(#p5ce1a896c0)\" d=\"M 251.07782 149.371034 \nL 249.109014 153.386479 \nL 247.077942 149.402167 \nL 251.07782 149.371034 \nz\n\" style=\"stroke:#000000;stroke-linecap:round;\"/>\n   </g>\n   <g id=\"patch_16\">\n    <path clip-path=\"url(#p5ce1a896c0)\" d=\"M 252.001683 33.813072 \nQ 280.533583 90.707967 308.564296 146.603457 \n\" style=\"fill:none;stroke:#000000;stroke-linecap:round;\"/>\n    <path clip-path=\"url(#p5ce1a896c0)\" d=\"M 308.558988 142.131324 \nL 308.564296 146.603457 \nL 304.983405 143.924423 \nL 308.558988 142.131324 \nz\n\" style=\"stroke:#000000;stroke-linecap:round;\"/>\n   </g>\n   <g id=\"patch_17\">\n    <path clip-path=\"url(#p5ce1a896c0)\" d=\"M 241.978124 32.171865 \nQ 202.205941 71.705643 163.226701 110.451232 \n\" style=\"fill:none;stroke:#000000;stroke-linecap:round;\"/>\n    <path clip-path=\"url(#p5ce1a896c0)\" d=\"M 167.473574 109.049778 \nL 163.226701 110.451232 \nL 164.653662 106.212861 \nL 167.473574 109.049778 \nz\n\" style=\"stroke:#000000;stroke-linecap:round;\"/>\n   </g>\n   <g id=\"patch_18\">\n    <path clip-path=\"url(#p5ce1a896c0)\" d=\"M 309.063456 147.598823 \nQ 280.531557 90.703928 252.500844 34.808438 \n\" style=\"fill:none;stroke:#000000;stroke-linecap:round;\"/>\n    <path clip-path=\"url(#p5ce1a896c0)\" d=\"M 252.506152 39.280571 \nL 252.500844 34.808438 \nL 256.081735 37.487472 \nL 252.506152 39.280571 \nz\n\" style=\"stroke:#000000;stroke-linecap:round;\"/>\n   </g>\n   <g id=\"patch_19\">\n    <path clip-path=\"url(#p5ce1a896c0)\" d=\"M 304.35029 156.397448 \nQ 281.065695 159.253071 258.89082 161.972598 \n\" style=\"fill:none;stroke:#000000;stroke-linecap:round;\"/>\n    <path clip-path=\"url(#p5ce1a896c0)\" d=\"M 263.104529 163.470813 \nL 258.89082 161.972598 \nL 262.617618 159.500559 \nL 263.104529 163.470813 \nz\n\" style=\"stroke:#000000;stroke-linecap:round;\"/>\n   </g>\n   <g id=\"matplotlib.axis_1\">\n    <g id=\"xtick_1\"/>\n    <g id=\"xtick_2\"/>\n    <g id=\"xtick_3\"/>\n    <g id=\"xtick_4\"/>\n    <g id=\"xtick_5\"/>\n    <g id=\"xtick_6\"/>\n    <g id=\"xtick_7\"/>\n    <g id=\"xtick_8\"/>\n   </g>\n   <g id=\"matplotlib.axis_2\">\n    <g id=\"ytick_1\"/>\n    <g id=\"ytick_2\"/>\n    <g id=\"ytick_3\"/>\n    <g id=\"ytick_4\"/>\n    <g id=\"ytick_5\"/>\n    <g id=\"ytick_6\"/>\n   </g>\n   <g id=\"PathCollection_1\">\n    <defs>\n     <path d=\"M 0 8.660254 \nC 2.296726 8.660254 4.499694 7.747755 6.123724 6.123724 \nC 7.747755 4.499694 8.660254 2.296726 8.660254 0 \nC 8.660254 -2.296726 7.747755 -4.499694 6.123724 -6.123724 \nC 4.499694 -7.747755 2.296726 -8.660254 0 -8.660254 \nC -2.296726 -8.660254 -4.499694 -7.747755 -6.123724 -6.123724 \nC -7.747755 -4.499694 -8.660254 -2.296726 -8.660254 0 \nC -8.660254 2.296726 -7.747755 4.499694 -6.123724 6.123724 \nC -4.499694 7.747755 -2.296726 8.660254 0 8.660254 \nz\n\" id=\"m349bacfb59\" style=\"stroke:#1f78b4;\"/>\n    </defs>\n    <g clip-path=\"url(#p5ce1a896c0)\">\n     <use style=\"fill:#1f78b4;stroke:#1f78b4;\" x=\"36.252893\" xlink:href=\"#m349bacfb59\" y=\"105.105325\"/>\n     <use style=\"fill:#1f78b4;stroke:#1f78b4;\" x=\"203.482089\" xlink:href=\"#m349bacfb59\" y=\"205.77124\"/>\n     <use style=\"fill:#1f78b4;stroke:#1f78b4;\" x=\"156.291225\" xlink:href=\"#m349bacfb59\" y=\"117.345134\"/>\n     <use style=\"fill:#1f78b4;stroke:#1f78b4;\" x=\"249.185109\" xlink:href=\"#m349bacfb59\" y=\"163.162906\"/>\n     <use style=\"fill:#1f78b4;stroke:#1f78b4;\" x=\"248.118033\" xlink:href=\"#m349bacfb59\" y=\"26.06876\"/>\n     <use style=\"fill:#1f78b4;stroke:#1f78b4;\" x=\"312.947107\" xlink:href=\"#m349bacfb59\" y=\"155.343135\"/>\n    </g>\n   </g>\n   <g id=\"patch_20\">\n    <path d=\"M 7.2 224.64 \nL 7.2 7.2 \n\" style=\"fill:none;stroke:#000000;stroke-linecap:square;stroke-linejoin:miter;stroke-width:0.8;\"/>\n   </g>\n   <g id=\"patch_21\">\n    <path d=\"M 342 224.64 \nL 342 7.2 \n\" style=\"fill:none;stroke:#000000;stroke-linecap:square;stroke-linejoin:miter;stroke-width:0.8;\"/>\n   </g>\n   <g id=\"patch_22\">\n    <path d=\"M 7.2 224.64 \nL 342 224.64 \n\" style=\"fill:none;stroke:#000000;stroke-linecap:square;stroke-linejoin:miter;stroke-width:0.8;\"/>\n   </g>\n   <g id=\"patch_23\">\n    <path d=\"M 7.2 7.2 \nL 342 7.2 \n\" style=\"fill:none;stroke:#000000;stroke-linecap:square;stroke-linejoin:miter;stroke-width:0.8;\"/>\n   </g>\n   <g id=\"text_1\">\n    <g clip-path=\"url(#p5ce1a896c0)\">\n     <!-- 0 -->\n     <g transform=\"translate(32.435393 108.416575)scale(0.12 -0.12)\">\n      <defs>\n       <path d=\"M 2034 4250 \nQ 1547 4250 1301 3770 \nQ 1056 3291 1056 2328 \nQ 1056 1369 1301 889 \nQ 1547 409 2034 409 \nQ 2525 409 2770 889 \nQ 3016 1369 3016 2328 \nQ 3016 3291 2770 3770 \nQ 2525 4250 2034 4250 \nz\nM 2034 4750 \nQ 2819 4750 3233 4129 \nQ 3647 3509 3647 2328 \nQ 3647 1150 3233 529 \nQ 2819 -91 2034 -91 \nQ 1250 -91 836 529 \nQ 422 1150 422 2328 \nQ 422 3509 836 4129 \nQ 1250 4750 2034 4750 \nz\n\" id=\"DejaVuSans-30\" transform=\"scale(0.015625)\"/>\n      </defs>\n      <use xlink:href=\"#DejaVuSans-30\"/>\n     </g>\n    </g>\n   </g>\n   <g id=\"text_2\">\n    <g clip-path=\"url(#p5ce1a896c0)\">\n     <!-- 1 -->\n     <g transform=\"translate(199.664589 209.08249)scale(0.12 -0.12)\">\n      <defs>\n       <path d=\"M 794 531 \nL 1825 531 \nL 1825 4091 \nL 703 3866 \nL 703 4441 \nL 1819 4666 \nL 2450 4666 \nL 2450 531 \nL 3481 531 \nL 3481 0 \nL 794 0 \nL 794 531 \nz\n\" id=\"DejaVuSans-31\" transform=\"scale(0.015625)\"/>\n      </defs>\n      <use xlink:href=\"#DejaVuSans-31\"/>\n     </g>\n    </g>\n   </g>\n   <g id=\"text_3\">\n    <g clip-path=\"url(#p5ce1a896c0)\">\n     <!-- 2 -->\n     <g transform=\"translate(152.473725 120.656384)scale(0.12 -0.12)\">\n      <defs>\n       <path d=\"M 1228 531 \nL 3431 531 \nL 3431 0 \nL 469 0 \nL 469 531 \nQ 828 903 1448 1529 \nQ 2069 2156 2228 2338 \nQ 2531 2678 2651 2914 \nQ 2772 3150 2772 3378 \nQ 2772 3750 2511 3984 \nQ 2250 4219 1831 4219 \nQ 1534 4219 1204 4116 \nQ 875 4013 500 3803 \nL 500 4441 \nQ 881 4594 1212 4672 \nQ 1544 4750 1819 4750 \nQ 2544 4750 2975 4387 \nQ 3406 4025 3406 3419 \nQ 3406 3131 3298 2873 \nQ 3191 2616 2906 2266 \nQ 2828 2175 2409 1742 \nQ 1991 1309 1228 531 \nz\n\" id=\"DejaVuSans-32\" transform=\"scale(0.015625)\"/>\n      </defs>\n      <use xlink:href=\"#DejaVuSans-32\"/>\n     </g>\n    </g>\n   </g>\n   <g id=\"text_4\">\n    <g clip-path=\"url(#p5ce1a896c0)\">\n     <!-- 3 -->\n     <g transform=\"translate(245.367609 166.474156)scale(0.12 -0.12)\">\n      <defs>\n       <path d=\"M 2597 2516 \nQ 3050 2419 3304 2112 \nQ 3559 1806 3559 1356 \nQ 3559 666 3084 287 \nQ 2609 -91 1734 -91 \nQ 1441 -91 1130 -33 \nQ 819 25 488 141 \nL 488 750 \nQ 750 597 1062 519 \nQ 1375 441 1716 441 \nQ 2309 441 2620 675 \nQ 2931 909 2931 1356 \nQ 2931 1769 2642 2001 \nQ 2353 2234 1838 2234 \nL 1294 2234 \nL 1294 2753 \nL 1863 2753 \nQ 2328 2753 2575 2939 \nQ 2822 3125 2822 3475 \nQ 2822 3834 2567 4026 \nQ 2313 4219 1838 4219 \nQ 1578 4219 1281 4162 \nQ 984 4106 628 3988 \nL 628 4550 \nQ 988 4650 1302 4700 \nQ 1616 4750 1894 4750 \nQ 2613 4750 3031 4423 \nQ 3450 4097 3450 3541 \nQ 3450 3153 3228 2886 \nQ 3006 2619 2597 2516 \nz\n\" id=\"DejaVuSans-33\" transform=\"scale(0.015625)\"/>\n      </defs>\n      <use xlink:href=\"#DejaVuSans-33\"/>\n     </g>\n    </g>\n   </g>\n   <g id=\"text_5\">\n    <g clip-path=\"url(#p5ce1a896c0)\">\n     <!-- 4 -->\n     <g transform=\"translate(244.300533 29.38001)scale(0.12 -0.12)\">\n      <defs>\n       <path d=\"M 2419 4116 \nL 825 1625 \nL 2419 1625 \nL 2419 4116 \nz\nM 2253 4666 \nL 3047 4666 \nL 3047 1625 \nL 3713 1625 \nL 3713 1100 \nL 3047 1100 \nL 3047 0 \nL 2419 0 \nL 2419 1100 \nL 313 1100 \nL 313 1709 \nL 2253 4666 \nz\n\" id=\"DejaVuSans-34\" transform=\"scale(0.015625)\"/>\n      </defs>\n      <use xlink:href=\"#DejaVuSans-34\"/>\n     </g>\n    </g>\n   </g>\n   <g id=\"text_6\">\n    <g clip-path=\"url(#p5ce1a896c0)\">\n     <!-- 5 -->\n     <g transform=\"translate(309.129607 158.654385)scale(0.12 -0.12)\">\n      <defs>\n       <path d=\"M 691 4666 \nL 3169 4666 \nL 3169 4134 \nL 1269 4134 \nL 1269 2991 \nQ 1406 3038 1543 3061 \nQ 1681 3084 1819 3084 \nQ 2600 3084 3056 2656 \nQ 3513 2228 3513 1497 \nQ 3513 744 3044 326 \nQ 2575 -91 1722 -91 \nQ 1428 -91 1123 -41 \nQ 819 9 494 109 \nL 494 744 \nQ 775 591 1075 516 \nQ 1375 441 1709 441 \nQ 2250 441 2565 725 \nQ 2881 1009 2881 1497 \nQ 2881 1984 2565 2268 \nQ 2250 2553 1709 2553 \nQ 1456 2553 1204 2497 \nQ 953 2441 691 2322 \nL 691 4666 \nz\n\" id=\"DejaVuSans-35\" transform=\"scale(0.015625)\"/>\n      </defs>\n      <use xlink:href=\"#DejaVuSans-35\"/>\n     </g>\n    </g>\n   </g>\n  </g>\n </g>\n <defs>\n  <clipPath id=\"p5ce1a896c0\">\n   <rect height=\"217.44\" width=\"334.8\" x=\"7.2\" y=\"7.2\"/>\n  </clipPath>\n </defs>\n</svg>\n",
      "image/png": "[encoded data removed]"
     },
     "metadata": {}
    }
   ],
   "source": [
    "N, res = my_Ford_Fulkerson(G, 0, 5)\n",
    "nx.draw_networkx(N)"
   ]
  },
  {
   "cell_type": "code",
   "execution_count": 12,
   "metadata": {},
   "outputs": [
    {
     "output_type": "execute_result",
     "data": {
      "text/plain": [
       "{(0, 1): 10.0,\n",
       " (1, 0): 0,\n",
       " (0, 2): 13.0,\n",
       " (2, 0): 0,\n",
       " (1, 2): 0,\n",
       " (2, 1): 2.0,\n",
       " (1, 3): 12.0,\n",
       " (3, 1): 0,\n",
       " (2, 4): 11.0,\n",
       " (4, 2): 0,\n",
       " (3, 2): 0,\n",
       " (2, 3): 0,\n",
       " (3, 5): 19.0,\n",
       " (5, 3): 0,\n",
       " (4, 3): 7.0,\n",
       " (3, 4): 0,\n",
       " (4, 5): 4.0,\n",
       " (5, 4): 0}"
      ]
     },
     "metadata": {},
     "execution_count": 12
    }
   ],
   "source": [
    "res"
   ]
  },
  {
   "cell_type": "code",
   "execution_count": 11,
   "metadata": {},
   "outputs": [],
   "source": [
    "def my_dfs(G, s):\n",
    "    visited = set()\n",
    "    stack = queue.LifoQueue()\n",
    "\n",
    "    stack.put(s)\n",
    "\n",
    "    while not stack.empty():\n",
    "        v = stack.get()\n",
    "        if not v in visited:\n",
    "            visited.add(v)\n",
    "            print(v)\n",
    "            for w in G.neighbors(v):\n",
    "                if not w in visited and G.edges[v, w]['weight'] != 0:\n",
    "                    stack.put(w)\n",
    "    return visited"
   ]
  },
  {
   "cell_type": "code",
   "execution_count": null,
   "metadata": {},
   "outputs": [],
   "source": []
  }
 ]
}