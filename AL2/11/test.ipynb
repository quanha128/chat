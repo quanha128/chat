{
 "metadata": {
  "language_info": {
   "codemirror_mode": {
    "name": "ipython",
    "version": 3
   },
   "file_extension": ".py",
   "mimetype": "text/x-python",
   "name": "python",
   "nbconvert_exporter": "python",
   "pygments_lexer": "ipython3",
   "version": "3.8.10"
  },
  "orig_nbformat": 4,
  "kernelspec": {
   "name": "python3",
   "display_name": "Python 3.8.10 64-bit"
  },
  "interpreter": {
   "hash": "31f2aee4e71d21fbe5cf8b01ff0e069b9275f58929596ceb00d14d90e3e16cd6"
  }
 },
 "nbformat": 4,
 "nbformat_minor": 2,
 "cells": [
  {
   "cell_type": "code",
   "execution_count": 3,
   "source": [
    "import networkx as nx\n",
    "import queue\n",
    "\n",
    "def find_augmentpath(N, s, t):\n",
    "  P = [-1] * nx.number_of_nodes(N)\n",
    "  visited = set()\n",
    "  stack = queue.LifoQueue()\n",
    "  stack.put(s)\n",
    "  while not stack.empty():\n",
    "    v = stack.get()\n",
    "    if v == t:\n",
    "      return P, True\n",
    "    if not v in visited:\n",
    "      visited.add(v)\n",
    "      for w in N.neighbors(v):\n",
    "        if not w in visited and N.edges[v, w]['weight'] > 0:\n",
    "          stack.put(w)\n",
    "          P[w] = v\n",
    "  return P, False\n",
    "\n",
    "def restore_shortestpath(u, v, P):\n",
    "  path = []\n",
    "  temp = v\n",
    "  while temp != u:\n",
    "    parent = P[temp]\n",
    "    path.append((parent, temp))\n",
    "    temp = parent\n",
    "  path.reverse()\n",
    "  return path\n",
    "\n",
    "\n",
    "def min_capacity(N, path):\n",
    "  min_cap = float('inf')\n",
    "  for u, v in path:\n",
    "    capacity = N.edges[u, v]['weight']\n",
    "    if capacity < min_cap:\n",
    "      min_cap = capacity\n",
    "  return min_cap\n",
    "\n",
    "def increase_flow(N, path, amount, flow):\n",
    "  for u, v in path:\n",
    "    if flow[(v, u)] <= 0:\n",
    "      flow[(u, v)] += amount\n",
    "    else:\n",
    "      diff = flow[(v, u)] - amount\n",
    "      if diff >= 0:\n",
    "        flow[(v, u)] = diff\n",
    "      else:\n",
    "        flow[(u, v)] = -diff\n",
    "        flow[(v, u)] = 0\n",
    "    N.edges[u, v]['weight'] -= amount\n",
    "    if N.has_edge(v, u):\n",
    "      N.edges[v, u]['weight'] += amount\n",
    "    else:\n",
    "      N.add_edge(v, u, weight=amount)\n",
    "\n",
    "\n",
    "def my_Ford_Fulkerson(G, s, t):\n",
    "  N = G.copy()\n",
    "  f = {}\n",
    "  for u, v in N.edges:\n",
    "    f[(u, v)] = 0\n",
    "    f[(v, u)] = 0\n",
    "  P, is_found = find_augmentpath(N, s, t)\n",
    "  while is_found:\n",
    "    augmentpath = restore_shortestpath(s, t, P)\n",
    "    min_cap = min_capacity(N, augmentpath)\n",
    "    increase_flow(N, augmentpath, min_cap, f)\n",
    "    P, is_found = find_augmentpath(N, s, t)\n",
    "  return N, f\n",
    "\n",
    "\n",
    "G = nx.read_weighted_edgelist('test.edgelist', create_using=nx.DiGraph(), nodetype=int)\n",
    "N, f = my_Ford_Fulkerson(G, 0, 5)\n",
    "print(f)"
   ],
   "outputs": [
    {
     "output_type": "stream",
     "name": "stdout",
     "text": [
      "{(0, 1): 20.0, (1, 0): 0, (0, 2): 0, (2, 0): 0, (0, 3): 0, (3, 0): 0, (0, 4): 20.0, (4, 0): 0, (0, 5): 10.0, (5, 0): 0, (1, 3): 0, (3, 1): 0, (1, 6): 0, (6, 1): 0, (1, 7): 20.0, (7, 1): 0, (2, 9): 0, (9, 2): 0, (2, 10): 0, (10, 2): 0, (2, 11): 0, (11, 2): 0, (3, 8): 0, (8, 3): 0, (3, 12): 0, (12, 3): 0, (4, 5): 40.0, (5, 4): 0, (4, 12): 0, (12, 4): 0, (6, 2): 0, (2, 6): 0, (6, 13): 0, (13, 6): 0, (7, 4): 20.0, (4, 7): 0, (7, 13): 0, (13, 7): 0, (9, 13): 0, (13, 9): 0, (10, 13): 0, (13, 10): 0, (11, 13): 0, (13, 11): 0, (8, 10): 0, (10, 8): 0, (8, 13): 0, (13, 8): 0, (12, 13): 0, (13, 12): 0}\n"
     ]
    }
   ],
   "metadata": {}
  },
  {
   "cell_type": "code",
   "execution_count": 4,
   "source": [
    "f"
   ],
   "outputs": [
    {
     "output_type": "execute_result",
     "data": {
      "text/plain": [
       "{(0, 1): 20.0,\n",
       " (1, 0): 0,\n",
       " (0, 2): 0,\n",
       " (2, 0): 0,\n",
       " (0, 3): 0,\n",
       " (3, 0): 0,\n",
       " (0, 4): 20.0,\n",
       " (4, 0): 0,\n",
       " (0, 5): 10.0,\n",
       " (5, 0): 0,\n",
       " (1, 3): 0,\n",
       " (3, 1): 0,\n",
       " (1, 6): 0,\n",
       " (6, 1): 0,\n",
       " (1, 7): 20.0,\n",
       " (7, 1): 0,\n",
       " (2, 9): 0,\n",
       " (9, 2): 0,\n",
       " (2, 10): 0,\n",
       " (10, 2): 0,\n",
       " (2, 11): 0,\n",
       " (11, 2): 0,\n",
       " (3, 8): 0,\n",
       " (8, 3): 0,\n",
       " (3, 12): 0,\n",
       " (12, 3): 0,\n",
       " (4, 5): 40.0,\n",
       " (5, 4): 0,\n",
       " (4, 12): 0,\n",
       " (12, 4): 0,\n",
       " (6, 2): 0,\n",
       " (2, 6): 0,\n",
       " (6, 13): 0,\n",
       " (13, 6): 0,\n",
       " (7, 4): 20.0,\n",
       " (4, 7): 0,\n",
       " (7, 13): 0,\n",
       " (13, 7): 0,\n",
       " (9, 13): 0,\n",
       " (13, 9): 0,\n",
       " (10, 13): 0,\n",
       " (13, 10): 0,\n",
       " (11, 13): 0,\n",
       " (13, 11): 0,\n",
       " (8, 10): 0,\n",
       " (10, 8): 0,\n",
       " (8, 13): 0,\n",
       " (13, 8): 0,\n",
       " (12, 13): 0,\n",
       " (13, 12): 0}"
      ]
     },
     "metadata": {},
     "execution_count": 4
    }
   ],
   "metadata": {}
  },
  {
   "cell_type": "code",
   "execution_count": 5,
   "source": [
    "def my_dfs(G, s):\n",
    "    visited = set()\n",
    "    stack = queue.LifoQueue()\n",
    "\n",
    "    stack.put(s)\n",
    "\n",
    "    while not stack.empty():\n",
    "        v = stack.get()\n",
    "        if not v in visited:\n",
    "            visited.add(v)\n",
    "            print(v)\n",
    "            for w in G.neighbors(v):\n",
    "                if not w in visited and G.edges[v, w]['weight'] != 0:\n",
    "                    stack.put(w)\n",
    "    return visited\n",
    "my_dfs(N, 0)"
   ],
   "outputs": [
    {
     "output_type": "stream",
     "name": "stdout",
     "text": [
      "0\n",
      "3\n",
      "12\n",
      "13\n",
      "8\n",
      "10\n",
      "2\n",
      "11\n",
      "9\n"
     ]
    },
    {
     "output_type": "execute_result",
     "data": {
      "text/plain": [
       "{0, 2, 3, 8, 9, 10, 11, 12, 13}"
      ]
     },
     "metadata": {},
     "execution_count": 5
    }
   ],
   "metadata": {}
  },
  {
   "cell_type": "code",
   "execution_count": 6,
   "source": [
    "def min_cut(G, s, t):\n",
    "    N = G.copy()\n",
    "    f = {}\n",
    "    for u,v in N.edges:\n",
    "        f[(u,v)] = 0\n",
    "        f[(v,u)] = 0\n",
    "    P, is_found = find_augmentpath(N,s,t)\n",
    "    while is_found:\n",
    "        augmentpath = restore_shortestpath(s,t,P)\n",
    "        min_cap = min_capacity(N, augmentpath)\n",
    "        increase_flow(N, augmentpath, min_cap, f)\n",
    "        P, is_found = find_augmentpath(N,s,t)\n",
    "    A = my_dfs(N, 0)\n",
    "\n",
    "    return A\n",
    "min_cut(G, 0, 13)"
   ],
   "outputs": [
    {
     "output_type": "stream",
     "name": "stdout",
     "text": [
      "0\n",
      "5\n",
      "4\n",
      "12\n",
      "2\n",
      "11\n",
      "10\n",
      "9\n"
     ]
    },
    {
     "output_type": "execute_result",
     "data": {
      "text/plain": [
       "{0, 2, 4, 5, 9, 10, 11, 12}"
      ]
     },
     "metadata": {},
     "execution_count": 6
    }
   ],
   "metadata": {}
  },
  {
   "cell_type": "code",
   "execution_count": 7,
   "source": [
    "def mincut_dfs(G, source):\n",
    "  visited = set()\n",
    "  stack = queue.LifoQueue()\n",
    "  stack.put(source)\n",
    "  while not stack.empty():\n",
    "    v = stack.get()\n",
    "    if not v in visited:\n",
    "      visited.add(v)\n",
    "    for w in G.neighbors(v):\n",
    "        if not w in visited and G.edges[v, w]['weight'] > 0:\n",
    "          stack.put(w)\n",
    "  return visited, set(G.nodes)-visited\n",
    "\n",
    "\n",
    "N,f = my_Ford_Fulkerson(G,0,13)\n",
    "mincut_dfs(N,0)"
   ],
   "outputs": [
    {
     "output_type": "execute_result",
     "data": {
      "text/plain": [
       "({0, 2, 4, 5, 9, 10, 11, 12}, {1, 3, 6, 7, 8, 13})"
      ]
     },
     "metadata": {},
     "execution_count": 7
    }
   ],
   "metadata": {}
  },
  {
   "cell_type": "code",
   "execution_count": 8,
   "source": [
    "nx.draw_networkx(G)"
   ],
   "outputs": [
    {
     "output_type": "display_data",
     "data": {
      "text/plain": [
       "<Figure size 432x288 with 1 Axes>"
      ],
      "image/png": "[encoded data removed]"
     },
     "metadata": {}
    }
   ],
   "metadata": {}
  },
  {
   "cell_type": "code",
   "execution_count": 9,
   "source": [
    "G = nx.read_weighted_edgelist('psp_final.edgelist', create_using=nx.DiGraph(), nodetype=int)\n",
    "nx.draw_networkx(G)"
   ],
   "outputs": [
    {
     "output_type": "display_data",
     "data": {
      "text/plain": [
       "<Figure size 432x288 with 1 Axes>"
      ],
      "image/png": "[encoded data removed]"
     },
     "metadata": {}
    }
   ],
   "metadata": {}
  },
  {
   "cell_type": "code",
   "execution_count": 10,
   "source": [
    "def project_network(G, profit):\n",
    "    n = G.number_of_nodes()\n",
    "    Gp = G.copy()\n",
    "    cap = sum([i for i in profit if i>0]) + 1\n",
    "    for e in Gp.edges():\n",
    "        Gp.edges[e]['weight'] = cap\n",
    "    for v in range(len(profit)):\n",
    "        p = profit[v]\n",
    "        if profit[v] > 0:\n",
    "            Gp.add_edge(n,v,weight=p)\n",
    "        else:\n",
    "            Gp.add_edge(v,n+1,weight=-p)\n",
    "    return Gp"
   ],
   "outputs": [],
   "metadata": {}
  },
  {
   "cell_type": "code",
   "execution_count": 14,
   "source": [
    "G = nx.read_weighted_edgelist('psp_final.edgelist', create_using=nx.DiGraph(), nodetype=int)\n",
    "Gp = project_network(G, [15, 30, 10, -15, -20, -5])\n",
    "print(Gp.edges(data=True))\n",
    "print(G.nodes())"
   ],
   "outputs": [
    {
     "output_type": "stream",
     "name": "stdout",
     "text": [
      "[0, 3, 4, 1, 2, 5]\n"
     ]
    }
   ],
   "metadata": {}
  },
  {
   "cell_type": "code",
   "execution_count": 12,
   "source": [
    "def residual_network(G, f):\n",
    "  N = G.copy()\n",
    "  for (u, v), amount in f.items():\n",
    "    N.edges[u,v]['weight'] -= amount\n",
    "    if not G.has_edge(v, u):\n",
    "      N.add_edge(v, u, weight=0)\n",
    "    N.edges[v,u]['weight'] += amount\n",
    "  return N"
   ],
   "outputs": [],
   "metadata": {}
  },
  {
   "cell_type": "code",
   "execution_count": 13,
   "source": [
    "G = nx.read_weighted_edgelist('maxflow.edgelist', create_using=nx.DiGraph(), nodetype=int)\n",
    "f = {(0, 1) : 5, (1, 2): 5, (2, 3) : 5}\n",
    "N = residual_network(G, f)\n",
    "N.edges(data=True)"
   ],
   "outputs": [
    {
     "output_type": "execute_result",
     "data": {
      "text/plain": [
       "OutEdgeDataView([(0, 1, {'weight': 15.0}), (0, 2, {'weight': 10.0}), (1, 2, {'weight': 25.0}), (1, 3, {'weight': 10.0}), (1, 0, {'weight': 5}), (2, 3, {'weight': 15.0}), (2, 1, {'weight': 5}), (3, 2, {'weight': 5})])"
      ]
     },
     "metadata": {},
     "execution_count": 13
    }
   ],
   "metadata": {}
  },
  {
   "cell_type": "code",
   "execution_count": null,
   "source": [],
   "outputs": [],
   "metadata": {}
  }
 ]
}