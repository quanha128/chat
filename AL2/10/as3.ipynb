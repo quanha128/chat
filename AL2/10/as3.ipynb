{
 "metadata": {
  "language_info": {
   "codemirror_mode": {
    "name": "ipython",
    "version": 3
   },
   "file_extension": ".py",
   "mimetype": "text/x-python",
   "name": "python",
   "nbconvert_exporter": "python",
   "pygments_lexer": "ipython3",
   "version": "3.8.5"
  },
  "orig_nbformat": 2,
  "kernelspec": {
   "name": "python3",
   "display_name": "Python 3.8.5 64-bit"
  },
  "metadata": {
   "interpreter": {
    "hash": "31f2aee4e71d21fbe5cf8b01ff0e069b9275f58929596ceb00d14d90e3e16cd6"
   }
  },
  "interpreter": {
   "hash": "916dbcbb3f70747c44a77c7bcd40155683ae19c65e1c03b4aa3499c5328201f1"
  }
 },
 "nbformat": 4,
 "nbformat_minor": 2,
 "cells": [
  {
   "cell_type": "code",
   "execution_count": 75,
   "source": [
    "import networkx as nx\n",
    "import numpy as np\n",
    "import queue"
   ],
   "outputs": [],
   "metadata": {}
  },
  {
   "cell_type": "code",
   "execution_count": 76,
   "source": [
    "G = nx.read_weighted_edgelist('ff.edgelist', create_using=nx.DiGraph(), nodetype=int)"
   ],
   "outputs": [],
   "metadata": {}
  },
  {
   "cell_type": "code",
   "execution_count": 77,
   "source": [
    "def my_dfs(G, s):\n",
    "    visited = set()\n",
    "    stack = queue.LifoQueue()\n",
    "\n",
    "    stack.put(s)\n",
    "\n",
    "    while not stack.empty():\n",
    "        v = stack.get()\n",
    "        if not v in visited:\n",
    "            visited.add(v)\n",
    "            print(v)\n",
    "            for w in G.neighbors(v):\n",
    "                if not w in visited:\n",
    "                    stack.put(w)"
   ],
   "outputs": [],
   "metadata": {}
  },
  {
   "cell_type": "code",
   "execution_count": 78,
   "source": [
    "for i in nx.all_simple_paths(G, 0, 5): print (i)"
   ],
   "outputs": [
    {
     "output_type": "stream",
     "name": "stdout",
     "text": [
      "[0, 1, 2, 4, 3, 5]\n",
      "[0, 1, 2, 4, 5]\n",
      "[0, 1, 3, 2, 4, 5]\n",
      "[0, 1, 3, 5]\n",
      "[0, 2, 1, 3, 5]\n",
      "[0, 2, 4, 3, 5]\n",
      "[0, 2, 4, 5]\n"
     ]
    }
   ],
   "metadata": {}
  },
  {
   "cell_type": "code",
   "execution_count": 79,
   "source": [
    "def find_augmentpath(N, s, t):\n",
    "    P = [-1]*nx.number_of_nodes(N)\n",
    "    visited = set()\n",
    "    stack = queue.LifoQueue()\n",
    "    stack.put(s)\n",
    "    while not stack.empty():\n",
    "        v = stack.get()\n",
    "        if v == t:\n",
    "            return (P, True)\n",
    "        if not v in visited:\n",
    "            visited.add(v)\n",
    "        for w in N.neighbors(v):\n",
    "            if w not in visited and N.edges[v, w]['weight'] != 0:\n",
    "                stack.put(w)\n",
    "                P[w] = v\n",
    "    return (P, False)"
   ],
   "outputs": [],
   "metadata": {}
  },
  {
   "cell_type": "code",
   "execution_count": 80,
   "source": [
    "find_augmentpath(G, 0, 5)"
   ],
   "outputs": [
    {
     "output_type": "execute_result",
     "data": {
      "text/plain": [
       "([-1, 2, 0, 4, 2, 4], True)"
      ]
     },
     "metadata": {},
     "execution_count": 80
    }
   ],
   "metadata": {}
  },
  {
   "cell_type": "code",
   "execution_count": 81,
   "source": [
    "def min_capacity(N, path):\n",
    "    min_cap = float('inf')\n",
    "    for u,v in path:\n",
    "        capacity = N.edges[u,v]['weight']\n",
    "        if capacity < min_cap:\n",
    "            min_cap = capacity\n",
    "    return min_cap"
   ],
   "outputs": [],
   "metadata": {}
  },
  {
   "cell_type": "code",
   "execution_count": 82,
   "source": [
    "def restore_shortestpath(u, v, P):\n",
    "    path = []\n",
    "    temp = v\n",
    "    while temp != u:\n",
    "        parent = P[temp]\n",
    "        path.append((parent, temp))\n",
    "        temp = parent\n",
    "    path.reverse()\n",
    "    return path"
   ],
   "outputs": [],
   "metadata": {}
  },
  {
   "cell_type": "code",
   "execution_count": 83,
   "source": [
    "def increase_flow(N, path, amount, flow):\n",
    "    for (u,v) in path:\n",
    "        if flow[u,v] <= 0: flow[(u,v)] += amount\n",
    "        else:\n",
    "            diff = flow[(v, u)] - amount\n",
    "            if diff >= 0:\n",
    "                flow[(v, u)] = diff\n",
    "            else:\n",
    "                flow[(u, v)] = -diff\n",
    "                flow[(v, u)] = 0\n",
    "\n",
    "        N.edges[u,v]['weight'] -= amount\n",
    "        if N.has_edge(v,u):\n",
    "            N.edges[v,u]['weight'] += amount\n",
    "        else:\n",
    "            N.add_edge(v, u, weight=amount)\n"
   ],
   "outputs": [],
   "metadata": {}
  },
  {
   "cell_type": "code",
   "execution_count": 85,
   "source": [
    "def my_Ford_Fulkerson(G, s, t):\n",
    "    N = G.copy()\n",
    "    f = {}\n",
    "    for u,v in N.edges:\n",
    "        f[(u,v)] = 0\n",
    "        f[(v,u)] = 0\n",
    "    P, is_found = find_augmentpath(N,s,t)\n",
    "    while is_found:\n",
    "        augmentpath = restore_shortestpath(s,t,P)\n",
    "        min_cap = min_capacity(N, augmentpath)\n",
    "        increase_flow(N, augmentpath, min_cap, f)\n",
    "        P, is_found = find_augmentpath(N,s,t)\n",
    "    return N, f"
   ],
   "outputs": [],
   "metadata": {}
  },
  {
   "cell_type": "code",
   "execution_count": 88,
   "source": [
    "N, res = my_Ford_Fulkerson(G, 0, 5)\n",
    "nx.draw_networkx(N)\n",
    "print(res)"
   ],
   "outputs": [
    {
     "output_type": "stream",
     "name": "stdout",
     "text": [
      "{(0, 1): 10.0, (1, 0): 0, (0, 2): 4.0, (2, 0): 4.0, (1, 2): 0, (2, 1): 2.0, (1, 3): 2.0, (3, 1): 2.0, (2, 4): 4.0, (4, 2): 4.0, (3, 2): 0, (2, 3): 0, (3, 5): 7.0, (5, 3): 7.0, (4, 3): 7.0, (3, 4): 0, (4, 5): 4.0, (5, 4): 0}\n"
     ]
    },
    {
     "output_type": "display_data",
     "data": {
      "text/plain": [
       "<Figure size 432x288 with 1 Axes>"
      ],
      "image/png": "[encoded data removed]",
      "image/svg+xml": "<?xml version=\"1.0\" encoding=\"utf-8\" standalone=\"no\"?>\n<!DOCTYPE svg PUBLIC \"-//W3C//DTD SVG 1.1//EN\"\n  \"http://www.w3.org/Graphics/SVG/1.1/DTD/svg11.dtd\">\n<svg height=\"231.84pt\" version=\"1.1\" viewBox=\"0 0 349.2 231.84\" width=\"349.2pt\" xmlns=\"http://www.w3.org/2000/svg\" xmlns:xlink=\"http://www.w3.org/1999/xlink\">\n <metadata>\n  <rdf:RDF xmlns:cc=\"http://creativecommons.org/ns#\" xmlns:dc=\"http://purl.org/dc/elements/1.1/\" xmlns:rdf=\"http://www.w3.org/1999/02/22-rdf-syntax-ns#\">\n   <cc:Work>\n    <dc:type rdf:resource=\"http://purl.org/dc/dcmitype/StillImage\"/>\n    <dc:date>2021-06-18T20:07:34.623476</dc:date>\n    <dc:format>image/svg+xml</dc:format>\n    <dc:creator>\n     <cc:Agent>\n      <dc:title>Matplotlib v3.4.2, https://matplotlib.org/</dc:title>\n     </cc:Agent>\n    </dc:creator>\n   </cc:Work>\n  </rdf:RDF>\n </metadata>\n <defs>\n  <style type=\"text/css\">*{stroke-linecap:butt;stroke-linejoin:round;}</style>\n </defs>\n <g id=\"figure_1\">\n  <g id=\"patch_1\">\n   <path d=\"M 0 231.84 \nL 349.2 231.84 \nL 349.2 0 \nL 0 0 \nz\n\" style=\"fill:none;\"/>\n  </g>\n  <g id=\"axes_1\">\n   <g id=\"patch_2\">\n    <path d=\"M 7.2 224.64 \nL 342 224.64 \nL 342 7.2 \nL 7.2 7.2 \nz\n\" style=\"fill:#ffffff;\"/>\n   </g>\n   <g id=\"patch_3\">\n    <path clip-path=\"url(#p29290bc962)\" d=\"M 305.868722 31.054875 \nQ 263.577049 60.845727 222.199406 89.992724 \n\" style=\"fill:none;stroke:#000000;stroke-linecap:round;\"/>\n    <path clip-path=\"url(#p29290bc962)\" d=\"M 226.621301 89.324263 \nL 222.199406 89.992724 \nL 224.317774 86.054131 \nL 226.621301 89.324263 \nz\n\" style=\"stroke:#000000;stroke-linecap:round;\"/>\n   </g>\n   <g id=\"patch_4\">\n    <path clip-path=\"url(#p29290bc962)\" d=\"M 305.826042 30.996793 \nQ 231.728128 82.275212 158.54957 132.917403 \n\" style=\"fill:none;stroke:#000000;stroke-linecap:round;\"/>\n    <path clip-path=\"url(#p29290bc962)\" d=\"M 162.976874 132.285761 \nL 158.54957 132.917403 \nL 160.700639 128.996574 \nL 162.976874 132.285761 \nz\n\" style=\"stroke:#000000;stroke-linecap:round;\"/>\n   </g>\n   <g id=\"patch_5\">\n    <path clip-path=\"url(#p29290bc962)\" d=\"M 207.016854 100.460612 \nQ 182.354803 117.05441 158.620357 133.024071 \n\" style=\"fill:none;stroke:#000000;stroke-linecap:round;\"/>\n    <path clip-path=\"url(#p29290bc962)\" d=\"M 163.055551 132.450441 \nL 158.620357 133.024071 \nL 160.82257 129.131737 \nL 163.055551 132.450441 \nz\n\" style=\"stroke:#000000;stroke-linecap:round;\"/>\n   </g>\n   <g id=\"patch_6\">\n    <path clip-path=\"url(#p29290bc962)\" d=\"M 206.212661 98.960249 \nQ 162.830236 117.069343 120.479564 134.747754 \n\" style=\"fill:none;stroke:#000000;stroke-linecap:round;\"/>\n    <path clip-path=\"url(#p29290bc962)\" d=\"M 124.941301 135.052548 \nL 120.479564 134.747754 \nL 123.400441 131.36124 \nL 124.941301 135.052548 \nz\n\" style=\"stroke:#000000;stroke-linecap:round;\"/>\n   </g>\n   <g id=\"patch_7\">\n    <path clip-path=\"url(#p29290bc962)\" d=\"M 221.283679 90.637775 \nQ 263.575352 60.846923 304.952995 31.699926 \n\" style=\"fill:none;stroke:#000000;stroke-linecap:round;\"/>\n    <path clip-path=\"url(#p29290bc962)\" d=\"M 300.5311 32.368387 \nL 304.952995 31.699926 \nL 302.834627 35.638519 \nL 300.5311 32.368387 \nz\n\" style=\"stroke:#000000;stroke-linecap:round;\"/>\n   </g>\n   <g id=\"patch_8\">\n    <path clip-path=\"url(#p29290bc962)\" d=\"M 157.69693 133.645396 \nQ 182.358982 117.051598 206.093427 101.081938 \n\" style=\"fill:none;stroke:#000000;stroke-linecap:round;\"/>\n    <path clip-path=\"url(#p29290bc962)\" d=\"M 201.658233 101.655567 \nL 206.093427 101.081938 \nL 203.891214 104.974271 \nL 201.658233 101.655567 \nz\n\" style=\"stroke:#000000;stroke-linecap:round;\"/>\n   </g>\n   <g id=\"patch_9\">\n    <path clip-path=\"url(#p29290bc962)\" d=\"M 142.164569 140.804701 \nQ 93.379843 154.384227 45.672203 167.663941 \n\" style=\"fill:none;stroke:#000000;stroke-linecap:round;\"/>\n    <path clip-path=\"url(#p29290bc962)\" d=\"M 50.062021 168.518045 \nL 45.672203 167.663941 \nL 48.989377 164.664548 \nL 50.062021 168.518045 \nz\n\" style=\"stroke:#000000;stroke-linecap:round;\"/>\n   </g>\n   <g id=\"patch_10\">\n    <path clip-path=\"url(#p29290bc962)\" d=\"M 157.629556 133.554086 \nQ 231.72747 82.275667 304.906029 31.633476 \n\" style=\"fill:none;stroke:#000000;stroke-linecap:round;\"/>\n    <path clip-path=\"url(#p29290bc962)\" d=\"M 300.478724 32.265118 \nL 304.906029 31.633476 \nL 302.754959 35.554305 \nL 300.478724 32.265118 \nz\n\" style=\"stroke:#000000;stroke-linecap:round;\"/>\n   </g>\n   <g id=\"patch_11\">\n    <path clip-path=\"url(#p29290bc962)\" d=\"M 120.119546 138.506599 \nQ 130.983074 138.497848 140.728569 138.489997 \n\" style=\"fill:none;stroke:#000000;stroke-linecap:round;\"/>\n    <path clip-path=\"url(#p29290bc962)\" d=\"M 136.726959 136.49322 \nL 140.728569 138.489997 \nL 136.730182 140.493219 \nL 136.726959 136.49322 \nz\n\" style=\"stroke:#000000;stroke-linecap:round;\"/>\n   </g>\n   <g id=\"patch_12\">\n    <path clip-path=\"url(#p29290bc962)\" d=\"M 106.636382 145.709785 \nQ 88.925529 172.142471 71.837015 197.646342 \n\" style=\"fill:none;stroke:#000000;stroke-linecap:round;\"/>\n    <path clip-path=\"url(#p29290bc962)\" d=\"M 75.725074 195.436591 \nL 71.837015 197.646342 \nL 72.402049 193.210045 \nL 75.725074 195.436591 \nz\n\" style=\"stroke:#000000;stroke-linecap:round;\"/>\n   </g>\n   <g id=\"patch_13\">\n    <path clip-path=\"url(#p29290bc962)\" d=\"M 103.48499 141.882013 \nQ 73.859616 154.39798 45.264137 166.478842 \n\" style=\"fill:none;stroke:#000000;stroke-linecap:round;\"/>\n    <path clip-path=\"url(#p29290bc962)\" d=\"M 49.727141 166.764497 \nL 45.264137 166.478842 \nL 48.170464 163.079832 \nL 49.727141 166.764497 \nz\n\" style=\"stroke:#000000;stroke-linecap:round;\"/>\n   </g>\n   <g id=\"patch_14\">\n    <path clip-path=\"url(#p29290bc962)\" d=\"M 119.450734 135.177218 \nQ 162.833158 117.068123 205.183831 99.389712 \n\" style=\"fill:none;stroke:#000000;stroke-linecap:round;\"/>\n    <path clip-path=\"url(#p29290bc962)\" d=\"M 200.722094 99.084918 \nL 205.183831 99.389712 \nL 202.262953 102.776226 \nL 200.722094 99.084918 \nz\n\" style=\"stroke:#000000;stroke-linecap:round;\"/>\n   </g>\n   <g id=\"patch_15\">\n    <path clip-path=\"url(#p29290bc962)\" d=\"M 44.226003 166.917427 \nQ 73.851377 154.40146 102.446856 142.320598 \n\" style=\"fill:none;stroke:#000000;stroke-linecap:round;\"/>\n    <path clip-path=\"url(#p29290bc962)\" d=\"M 97.983853 142.034943 \nL 102.446856 142.320598 \nL 99.54053 145.719608 \nL 97.983853 142.034943 \nz\n\" style=\"stroke:#000000;stroke-linecap:round;\"/>\n   </g>\n   <g id=\"patch_16\">\n    <path clip-path=\"url(#p29290bc962)\" d=\"M 41.85818 176.885225 \nQ 51.323809 188.029543 60.065657 198.32172 \n\" style=\"fill:none;stroke:#000000;stroke-linecap:round;\"/>\n    <path clip-path=\"url(#p29290bc962)\" d=\"M 59.000535 193.978275 \nL 60.065657 198.32172 \nL 55.951828 196.56775 \nL 59.000535 193.978275 \nz\n\" style=\"stroke:#000000;stroke-linecap:round;\"/>\n   </g>\n   <g id=\"patch_17\">\n    <path clip-path=\"url(#p29290bc962)\" d=\"M 44.596815 167.963282 \nQ 93.38154 154.383755 141.089181 141.104041 \n\" style=\"fill:none;stroke:#000000;stroke-linecap:round;\"/>\n    <path clip-path=\"url(#p29290bc962)\" d=\"M 136.699362 140.249937 \nL 141.089181 141.104041 \nL 137.772006 144.103434 \nL 136.699362 140.249937 \nz\n\" style=\"stroke:#000000;stroke-linecap:round;\"/>\n   </g>\n   <g id=\"patch_18\">\n    <path clip-path=\"url(#p29290bc962)\" d=\"M 60.787753 199.171878 \nQ 51.322125 188.02756 42.580277 177.735383 \n\" style=\"fill:none;stroke:#000000;stroke-linecap:round;\"/>\n    <path clip-path=\"url(#p29290bc962)\" d=\"M 43.645398 182.078828 \nL 42.580277 177.735383 \nL 46.694106 179.489353 \nL 43.645398 182.078828 \nz\n\" style=\"stroke:#000000;stroke-linecap:round;\"/>\n   </g>\n   <g id=\"patch_19\">\n    <path clip-path=\"url(#p29290bc962)\" d=\"M 71.21476 198.575031 \nQ 88.925613 172.142346 106.014127 146.638474 \n\" style=\"fill:none;stroke:#000000;stroke-linecap:round;\"/>\n    <path clip-path=\"url(#p29290bc962)\" d=\"M 102.126068 148.848225 \nL 106.014127 146.638474 \nL 105.449093 151.074772 \nL 102.126068 148.848225 \nz\n\" style=\"stroke:#000000;stroke-linecap:round;\"/>\n   </g>\n   <g id=\"matplotlib.axis_1\">\n    <g id=\"xtick_1\"/>\n    <g id=\"xtick_2\"/>\n    <g id=\"xtick_3\"/>\n    <g id=\"xtick_4\"/>\n    <g id=\"xtick_5\"/>\n    <g id=\"xtick_6\"/>\n    <g id=\"xtick_7\"/>\n    <g id=\"xtick_8\"/>\n   </g>\n   <g id=\"matplotlib.axis_2\">\n    <g id=\"ytick_1\"/>\n    <g id=\"ytick_2\"/>\n    <g id=\"ytick_3\"/>\n    <g id=\"ytick_4\"/>\n    <g id=\"ytick_5\"/>\n   </g>\n   <g id=\"PathCollection_1\">\n    <defs>\n     <path d=\"M 0 8.660254 \nC 2.296726 8.660254 4.499694 7.747755 6.123724 6.123724 \nC 7.747755 4.499694 8.660254 2.296726 8.660254 0 \nC 8.660254 -2.296726 7.747755 -4.499694 6.123724 -6.123724 \nC 4.499694 -7.747755 2.296726 -8.660254 0 -8.660254 \nC -2.296726 -8.660254 -4.499694 -7.747755 -6.123724 -6.123724 \nC -7.747755 -4.499694 -8.660254 -2.296726 -8.660254 0 \nC -8.660254 2.296726 -7.747755 4.499694 -6.123724 6.123724 \nC -4.499694 7.747755 -2.296726 8.660254 0 8.660254 \nz\n\" id=\"m52018fb3a6\" style=\"stroke:#1f78b4;\"/>\n    </defs>\n    <g clip-path=\"url(#p29290bc962)\">\n     <use style=\"fill:#1f78b4;stroke:#1f78b4;\" x=\"312.947107\" xlink:href=\"#m52018fb3a6\" y=\"26.06876\"/>\n     <use style=\"fill:#1f78b4;stroke:#1f78b4;\" x=\"214.205294\" xlink:href=\"#m52018fb3a6\" y=\"95.62389\"/>\n     <use style=\"fill:#1f78b4;stroke:#1f78b4;\" x=\"150.508491\" xlink:href=\"#m52018fb3a6\" y=\"138.482119\"/>\n     <use style=\"fill:#1f78b4;stroke:#1f78b4;\" x=\"111.458101\" xlink:href=\"#m52018fb3a6\" y=\"138.513577\"/>\n     <use style=\"fill:#1f78b4;stroke:#1f78b4;\" x=\"36.252893\" xlink:href=\"#m52018fb3a6\" y=\"170.285863\"/>\n     <use style=\"fill:#1f78b4;stroke:#1f78b4;\" x=\"66.393041\" xlink:href=\"#m52018fb3a6\" y=\"205.77124\"/>\n    </g>\n   </g>\n   <g id=\"patch_20\">\n    <path d=\"M 7.2 224.64 \nL 7.2 7.2 \n\" style=\"fill:none;stroke:#000000;stroke-linecap:square;stroke-linejoin:miter;stroke-width:0.8;\"/>\n   </g>\n   <g id=\"patch_21\">\n    <path d=\"M 342 224.64 \nL 342 7.2 \n\" style=\"fill:none;stroke:#000000;stroke-linecap:square;stroke-linejoin:miter;stroke-width:0.8;\"/>\n   </g>\n   <g id=\"patch_22\">\n    <path d=\"M 7.2 224.64 \nL 342 224.64 \n\" style=\"fill:none;stroke:#000000;stroke-linecap:square;stroke-linejoin:miter;stroke-width:0.8;\"/>\n   </g>\n   <g id=\"patch_23\">\n    <path d=\"M 7.2 7.2 \nL 342 7.2 \n\" style=\"fill:none;stroke:#000000;stroke-linecap:square;stroke-linejoin:miter;stroke-width:0.8;\"/>\n   </g>\n   <g id=\"text_1\">\n    <g clip-path=\"url(#p29290bc962)\">\n     <!-- 0 -->\n     <g transform=\"translate(309.129607 29.38001)scale(0.12 -0.12)\">\n      <defs>\n       <path d=\"M 2034 4250 \nQ 1547 4250 1301 3770 \nQ 1056 3291 1056 2328 \nQ 1056 1369 1301 889 \nQ 1547 409 2034 409 \nQ 2525 409 2770 889 \nQ 3016 1369 3016 2328 \nQ 3016 3291 2770 3770 \nQ 2525 4250 2034 4250 \nz\nM 2034 4750 \nQ 2819 4750 3233 4129 \nQ 3647 3509 3647 2328 \nQ 3647 1150 3233 529 \nQ 2819 -91 2034 -91 \nQ 1250 -91 836 529 \nQ 422 1150 422 2328 \nQ 422 3509 836 4129 \nQ 1250 4750 2034 4750 \nz\n\" id=\"DejaVuSans-30\" transform=\"scale(0.015625)\"/>\n      </defs>\n      <use xlink:href=\"#DejaVuSans-30\"/>\n     </g>\n    </g>\n   </g>\n   <g id=\"text_2\">\n    <g clip-path=\"url(#p29290bc962)\">\n     <!-- 1 -->\n     <g transform=\"translate(210.387794 98.93514)scale(0.12 -0.12)\">\n      <defs>\n       <path d=\"M 794 531 \nL 1825 531 \nL 1825 4091 \nL 703 3866 \nL 703 4441 \nL 1819 4666 \nL 2450 4666 \nL 2450 531 \nL 3481 531 \nL 3481 0 \nL 794 0 \nL 794 531 \nz\n\" id=\"DejaVuSans-31\" transform=\"scale(0.015625)\"/>\n      </defs>\n      <use xlink:href=\"#DejaVuSans-31\"/>\n     </g>\n    </g>\n   </g>\n   <g id=\"text_3\">\n    <g clip-path=\"url(#p29290bc962)\">\n     <!-- 2 -->\n     <g transform=\"translate(146.690991 141.793369)scale(0.12 -0.12)\">\n      <defs>\n       <path d=\"M 1228 531 \nL 3431 531 \nL 3431 0 \nL 469 0 \nL 469 531 \nQ 828 903 1448 1529 \nQ 2069 2156 2228 2338 \nQ 2531 2678 2651 2914 \nQ 2772 3150 2772 3378 \nQ 2772 3750 2511 3984 \nQ 2250 4219 1831 4219 \nQ 1534 4219 1204 4116 \nQ 875 4013 500 3803 \nL 500 4441 \nQ 881 4594 1212 4672 \nQ 1544 4750 1819 4750 \nQ 2544 4750 2975 4387 \nQ 3406 4025 3406 3419 \nQ 3406 3131 3298 2873 \nQ 3191 2616 2906 2266 \nQ 2828 2175 2409 1742 \nQ 1991 1309 1228 531 \nz\n\" id=\"DejaVuSans-32\" transform=\"scale(0.015625)\"/>\n      </defs>\n      <use xlink:href=\"#DejaVuSans-32\"/>\n     </g>\n    </g>\n   </g>\n   <g id=\"text_4\">\n    <g clip-path=\"url(#p29290bc962)\">\n     <!-- 3 -->\n     <g transform=\"translate(107.640601 141.824827)scale(0.12 -0.12)\">\n      <defs>\n       <path d=\"M 2597 2516 \nQ 3050 2419 3304 2112 \nQ 3559 1806 3559 1356 \nQ 3559 666 3084 287 \nQ 2609 -91 1734 -91 \nQ 1441 -91 1130 -33 \nQ 819 25 488 141 \nL 488 750 \nQ 750 597 1062 519 \nQ 1375 441 1716 441 \nQ 2309 441 2620 675 \nQ 2931 909 2931 1356 \nQ 2931 1769 2642 2001 \nQ 2353 2234 1838 2234 \nL 1294 2234 \nL 1294 2753 \nL 1863 2753 \nQ 2328 2753 2575 2939 \nQ 2822 3125 2822 3475 \nQ 2822 3834 2567 4026 \nQ 2313 4219 1838 4219 \nQ 1578 4219 1281 4162 \nQ 984 4106 628 3988 \nL 628 4550 \nQ 988 4650 1302 4700 \nQ 1616 4750 1894 4750 \nQ 2613 4750 3031 4423 \nQ 3450 4097 3450 3541 \nQ 3450 3153 3228 2886 \nQ 3006 2619 2597 2516 \nz\n\" id=\"DejaVuSans-33\" transform=\"scale(0.015625)\"/>\n      </defs>\n      <use xlink:href=\"#DejaVuSans-33\"/>\n     </g>\n    </g>\n   </g>\n   <g id=\"text_5\">\n    <g clip-path=\"url(#p29290bc962)\">\n     <!-- 4 -->\n     <g transform=\"translate(32.435393 173.597113)scale(0.12 -0.12)\">\n      <defs>\n       <path d=\"M 2419 4116 \nL 825 1625 \nL 2419 1625 \nL 2419 4116 \nz\nM 2253 4666 \nL 3047 4666 \nL 3047 1625 \nL 3713 1625 \nL 3713 1100 \nL 3047 1100 \nL 3047 0 \nL 2419 0 \nL 2419 1100 \nL 313 1100 \nL 313 1709 \nL 2253 4666 \nz\n\" id=\"DejaVuSans-34\" transform=\"scale(0.015625)\"/>\n      </defs>\n      <use xlink:href=\"#DejaVuSans-34\"/>\n     </g>\n    </g>\n   </g>\n   <g id=\"text_6\">\n    <g clip-path=\"url(#p29290bc962)\">\n     <!-- 5 -->\n     <g transform=\"translate(62.575541 209.08249)scale(0.12 -0.12)\">\n      <defs>\n       <path d=\"M 691 4666 \nL 3169 4666 \nL 3169 4134 \nL 1269 4134 \nL 1269 2991 \nQ 1406 3038 1543 3061 \nQ 1681 3084 1819 3084 \nQ 2600 3084 3056 2656 \nQ 3513 2228 3513 1497 \nQ 3513 744 3044 326 \nQ 2575 -91 1722 -91 \nQ 1428 -91 1123 -41 \nQ 819 9 494 109 \nL 494 744 \nQ 775 591 1075 516 \nQ 1375 441 1709 441 \nQ 2250 441 2565 725 \nQ 2881 1009 2881 1497 \nQ 2881 1984 2565 2268 \nQ 2250 2553 1709 2553 \nQ 1456 2553 1204 2497 \nQ 953 2441 691 2322 \nL 691 4666 \nz\n\" id=\"DejaVuSans-35\" transform=\"scale(0.015625)\"/>\n      </defs>\n      <use xlink:href=\"#DejaVuSans-35\"/>\n     </g>\n    </g>\n   </g>\n  </g>\n </g>\n <defs>\n  <clipPath id=\"p29290bc962\">\n   <rect height=\"217.44\" width=\"334.8\" x=\"7.2\" y=\"7.2\"/>\n  </clipPath>\n </defs>\n</svg>\n"
     },
     "metadata": {}
    }
   ],
   "metadata": {}
  },
  {
   "cell_type": "code",
   "execution_count": null,
   "source": [],
   "outputs": [],
   "metadata": {}
  }
 ]
}