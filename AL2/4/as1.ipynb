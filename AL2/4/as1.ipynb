{
 "metadata": {
  "language_info": {
   "codemirror_mode": {
    "name": "ipython",
    "version": 3
   },
   "file_extension": ".py",
   "mimetype": "text/x-python",
   "name": "python",
   "nbconvert_exporter": "python",
   "pygments_lexer": "ipython3",
   "version": "3.8.5"
  },
  "orig_nbformat": 2,
  "kernelspec": {
   "name": "python385jvsc74a57bd031f2aee4e71d21fbe5cf8b01ff0e069b9275f58929596ceb00d14d90e3e16cd6",
   "display_name": "Python 3.8.5 64-bit"
  },
  "metadata": {
   "interpreter": {
    "hash": "31f2aee4e71d21fbe5cf8b01ff0e069b9275f58929596ceb00d14d90e3e16cd6"
   }
  }
 },
 "nbformat": 4,
 "nbformat_minor": 2,
 "cells": [
  {
   "cell_type": "code",
   "execution_count": 1,
   "metadata": {},
   "outputs": [],
   "source": [
    "import networkx as nx\n",
    "import time\n",
    "import random"
   ]
  },
  {
   "cell_type": "code",
   "execution_count": 2,
   "metadata": {},
   "outputs": [],
   "source": [
    "def my_min(l, x):\n",
    "    arg_min = -1\n",
    "    min_value = float('inf')\n",
    "    \n",
    "    for i in range(len(l)):\n",
    "        if l[i] < min_value:\n",
    "            if i in x:\n",
    "                arg_min=i\n",
    "                min_value=l[i]\n",
    "    return arg_min\n",
    "\n",
    "def dij(g,s):\n",
    "    X = set(g.nodes)\n",
    "    D=[float('inf') for i in X]\n",
    "    D[s] = 0\n",
    "    while X:\n",
    "       u=my_min(D,X)\n",
    "       X.remove(u)\n",
    "       for v in [i for i in g.neighbors(u) if i in X]:\n",
    "           if D[v] > D[u] + g.edges[u,v]['weight']:\n",
    "               D[v] = D[u] + g.edges[u,v]['weight']\n",
    "    return D"
   ]
  },
  {
   "cell_type": "code",
   "execution_count": 3,
   "metadata": {},
   "outputs": [],
   "source": [
    "for size in range(1000,11000,1000):\n",
    "    G=nx.fast_gnp_random_graph(size, 0.04)\n",
    "    for (u,v) in G.edges():\n",
    "        G.edges[u,v]['weight'] = random.randint(1,100)\n",
    "    filename = \"random_{num}.edgelist\".format(num=size)\n",
    "    nx.write_weighted_edgelist(G, filename)"
   ]
  },
  {
   "cell_type": "code",
   "execution_count": 4,
   "metadata": {},
   "outputs": [],
   "source": [
    "l=[]\n",
    "for size in range(1000,11000,1000):\n",
    "    g=nx.read_weighted_edgelist('random_{num}.edgelist'.format(num=size), nodetype=int)\n",
    "    start = time.time()\n",
    "    dij(g,0)\n",
    "    elapsed_time = time.time() - start\n",
    "    l.append(elapsed_time)\n",
    "print(l)"
   ]
  },
  {
   "cell_type": "code",
   "execution_count": 7,
   "metadata": {},
   "outputs": [
    {
     "output_type": "stream",
     "name": "stdout",
     "text": [
      "size 1000: 0.04321622848510742\nsize 2000: 0.15979361534118652\nsize 3000: 0.35214829444885254\nsize 4000: 0.6855993270874023\nsize 5000: 0.9683189392089844\nsize 6000: 1.4101965427398682\nsize 7000: 2.033273458480835\nsize 8000: 2.6627309322357178\nsize 9000: 3.383547782897949\nsize 10000: 4.268455743789673\n"
     ]
    }
   ],
   "source": [
    "n=1000\n",
    "for i in l:\n",
    "    print(\"size {num}: {time}\".format(num=n, time=i))\n",
    "    n+=1000"
   ]
  },
  {
   "cell_type": "code",
   "execution_count": null,
   "metadata": {},
   "outputs": [],
   "source": []
  }
 ]
}