{
 "metadata": {
  "language_info": {
   "codemirror_mode": {
    "name": "ipython",
    "version": 3
   },
   "file_extension": ".py",
   "mimetype": "text/x-python",
   "name": "python",
   "nbconvert_exporter": "python",
   "pygments_lexer": "ipython3",
   "version": "3.8.5"
  },
  "orig_nbformat": 2,
  "kernelspec": {
   "name": "python3",
   "display_name": "Python 3",
   "language": "python"
  }
 },
 "nbformat": 4,
 "nbformat_minor": 2,
 "cells": [
  {
   "cell_type": "code",
   "execution_count": 1,
   "metadata": {},
   "outputs": [],
   "source": [
    "import networkx as nx\n",
    "import heapq\n",
    "import time"
   ]
  },
  {
   "cell_type": "code",
   "execution_count": 2,
   "metadata": {},
   "outputs": [],
   "source": [
    "def dij2(g,s):\n",
    "    X = set(g.nodes)\n",
    "    Q = []\n",
    "    D = [float('inf') for i in X]\n",
    "    D[s] = 0\n",
    "    heapq.heappush(Q, (0,s))\n",
    "    while X and Q:\n",
    "        u = heapq.heappop(Q)\n",
    "        try:\n",
    "            while u[1] not in X:\n",
    "                u = heapq.heappop(Q)\n",
    "        except IndexError:\n",
    "            break\n",
    "        X.remove(u[1])\n",
    "        for v in [i for i in g.neighbors(u[1]) if i in X]:\n",
    "            if D[v] > u[0] + g.edges[u[1],v]['weight']:\n",
    "               D[v] = u[0] + g.edges[u[1],v]['weight']\n",
    "               heapq.heappush(Q, (D[v],v))\n",
    "    return D"
   ]
  },
  {
   "cell_type": "code",
   "execution_count": 5,
   "metadata": {},
   "outputs": [
    {
     "output_type": "stream",
     "name": "stdout",
     "text": [
      "[0.007150411605834961, 0.024176359176635742, 0.04844951629638672, 0.09062933921813965, 0.13286614418029785, 0.1759638786315918, 0.2418043613433838, 0.31400156021118164, 0.40734434127807617, 0.48654770851135254]\n"
     ]
    }
   ],
   "source": [
    "l=[]\n",
    "for size in range(1000,11000,1000):\n",
    "    g=nx.read_weighted_edgelist('random_{num}.edgelist'.format(num=size), nodetype=int)\n",
    "    start = time.time()\n",
    "    dij2(g,0)\n",
    "    elapsed_time = time.time() - start\n",
    "    l.append(elapsed_time)\n",
    "print(l)"
   ]
  },
  {
   "cell_type": "code",
   "execution_count": 6,
   "metadata": {},
   "outputs": [
    {
     "output_type": "stream",
     "name": "stdout",
     "text": [
      "size 1000: 0.007150411605834961\nsize 2000: 0.024176359176635742\nsize 3000: 0.04844951629638672\nsize 4000: 0.09062933921813965\nsize 5000: 0.13286614418029785\nsize 6000: 0.1759638786315918\nsize 7000: 0.2418043613433838\nsize 8000: 0.31400156021118164\nsize 9000: 0.40734434127807617\nsize 10000: 0.48654770851135254\n"
     ]
    }
   ],
   "source": [
    "n=1000\n",
    "for i in l:\n",
    "    print(\"size {num}: {time}\".format(num=n, time=i))\n",
    "    n+=1000"
   ]
  },
  {
   "cell_type": "code",
   "execution_count": null,
   "metadata": {},
   "outputs": [],
   "source": []
  }
 ]
}