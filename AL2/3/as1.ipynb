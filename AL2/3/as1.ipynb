{
 "metadata": {
  "language_info": {
   "codemirror_mode": {
    "name": "ipython",
    "version": 3
   },
   "file_extension": ".py",
   "mimetype": "text/x-python",
   "name": "python",
   "nbconvert_exporter": "python",
   "pygments_lexer": "ipython3",
   "version": "3.8.10"
  },
  "orig_nbformat": 2,
  "kernelspec": {
   "name": "python3",
   "display_name": "Python 3.8.10 64-bit"
  },
  "metadata": {
   "interpreter": {
    "hash": "31f2aee4e71d21fbe5cf8b01ff0e069b9275f58929596ceb00d14d90e3e16cd6"
   }
  },
  "interpreter": {
   "hash": "31f2aee4e71d21fbe5cf8b01ff0e069b9275f58929596ceb00d14d90e3e16cd6"
  }
 },
 "nbformat": 4,
 "nbformat_minor": 2,
 "cells": [
  {
   "cell_type": "code",
   "execution_count": 11,
   "metadata": {},
   "outputs": [],
   "source": [
    "import networkx as nx\n",
    "import matplotlib.pyplot as plt\n"
   ]
  },
  {
   "cell_type": "code",
   "execution_count": 12,
   "metadata": {},
   "outputs": [],
   "source": [
    "G=nx.read_weighted_edgelist('dij.edgelist',nodetype=int)\n",
    "# pos=nx.spring_layout(G)\n",
    "# nx.draw_networkx(G,pos,)\n",
    "# labels = nx.get_edge_attributes(G,'weight')\n",
    "# nx.draw_networkx_edge_labels(G,pos,edge_labels=labels)\n",
    "# plt.show()"
   ]
  },
  {
   "cell_type": "code",
   "execution_count": 13,
   "metadata": {},
   "outputs": [],
   "source": [
    "def my_min(l, x):\n",
    "    arg_min = -1\n",
    "    min_value = float('inf')\n",
    "    \n",
    "    for i in range(len(l)):\n",
    "        if l[i] < min_value:\n",
    "            if i in x:\n",
    "                arg_min=i\n",
    "                min_value=l[i]\n",
    "    return arg_min\n",
    "\n",
    "def dij(g,s):\n",
    "    X = set(g.nodes)\n",
    "    D=[float('inf') for i in X]\n",
    "    D[s] = 0\n",
    "    while X:\n",
    "       u=my_min(D,X)\n",
    "       X.remove(u)\n",
    "       for v in [i for i in g.neighbors(u) if i in X]:\n",
    "           if D[v] > D[u] + g.edges[u,v]['weight']:\n",
    "               D[v] = D[u] + g.edges[u,v]['weight']\n",
    "    return D"
   ]
  },
  {
   "cell_type": "code",
   "execution_count": 14,
   "metadata": {},
   "outputs": [
    {
     "output_type": "execute_result",
     "data": {
      "text/plain": [
       "[12.0, 8.0, 0, 7.0, 14.0, 4.0, 6.0, 7.0, 2.0]"
      ]
     },
     "metadata": {},
     "execution_count": 14
    }
   ],
   "source": [
    "dij(G,2)"
   ]
  },
  {
   "cell_type": "code",
   "execution_count": 15,
   "metadata": {},
   "outputs": [],
   "source": [
    "def my_extract_min2(D, X):\n",
    "  arg_min = -1\n",
    "  min_value = float('inf')\n",
    "  for i in X:\n",
    "    if D[i] < min_value:\n",
    "        arg_min = i\n",
    "        min_value = D[i]\n",
    "  return arg_min\n",
    "  \n",
    "def my_Dijkstra(G, source):\n",
    "  X = set(G.nodes)\n",
    "  D = [float('inf')] * nx.number_of_nodes(G)\n",
    "  D[source] = 0\n",
    "  P = [-1] * nx.number_of_nodes(G)\n",
    "  #iteration begin\n",
    "  while X:\n",
    "    u = my_extract_min2(D, X)\n",
    "    X.remove(u)\n",
    "    for v in G.neighbors(u):\n",
    "      if v in X:\n",
    "        new_distance = D[u] + G.edges[u, v]['weight']\n",
    "        if D[v] > new_distance:\n",
    "          D[v] = new_distance\n",
    "          P[v] = u\n",
    "  #iteration end\n",
    "  return D, P"
   ]
  },
  {
   "cell_type": "code",
   "execution_count": 16,
   "metadata": {},
   "outputs": [
    {
     "output_type": "execute_result",
     "data": {
      "text/plain": [
       "([12.0, 8.0, 0, 7.0, 14.0, 4.0, 6.0, 7.0, 2.0], [1, 2, -1, 2, 5, 2, 5, 6, 2])"
      ]
     },
     "metadata": {},
     "execution_count": 16
    }
   ],
   "source": [
    "my_Dijkstra(G, 2)"
   ]
  },
  {
   "cell_type": "code",
   "execution_count": 22,
   "metadata": {},
   "outputs": [
    {
     "output_type": "execute_result",
     "data": {
      "text/plain": [
       "[19.0, 15.0, 7.0, 0, 9.0, 11.0, 13.0, 14.0, 9.0]"
      ]
     },
     "metadata": {},
     "execution_count": 22
    }
   ],
   "source": [
    "def all_shortestpath(G):\n",
    "  DD = []\n",
    "  for i in G.nodes:\n",
    "    D, P = my_Dijkstra(G, i)\n",
    "    DD.append(D)\n",
    "  return DD\n",
    "\n",
    "DD = all_shortestpath(G)\n",
    "DD[4]"
   ]
  },
  {
   "cell_type": "code",
   "execution_count": null,
   "metadata": {},
   "outputs": [],
   "source": []
  }
 ]
}