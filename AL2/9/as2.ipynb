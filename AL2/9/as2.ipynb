{
 "metadata": {
  "language_info": {
   "codemirror_mode": {
    "name": "ipython",
    "version": 3
   },
   "file_extension": ".py",
   "mimetype": "text/x-python",
   "name": "python",
   "nbconvert_exporter": "python",
   "pygments_lexer": "ipython3",
   "version": "3.8.5"
  },
  "orig_nbformat": 4,
  "kernelspec": {
   "name": "python3",
   "display_name": "Python 3.8.5 64-bit"
  },
  "interpreter": {
   "hash": "31f2aee4e71d21fbe5cf8b01ff0e069b9275f58929596ceb00d14d90e3e16cd6"
  }
 },
 "nbformat": 4,
 "nbformat_minor": 2,
 "cells": [
  {
   "cell_type": "code",
   "execution_count": 1,
   "metadata": {},
   "outputs": [],
   "source": [
    "import networkx as nx\n",
    "import numpy as np"
   ]
  },
  {
   "cell_type": "code",
   "execution_count": 2,
   "metadata": {},
   "outputs": [
    {
     "output_type": "stream",
     "name": "stdout",
     "text": [
      "[[1.]\n [1.]\n [1.]\n [1.]]\n[4.]\n"
     ]
    }
   ],
   "source": [
    "G = nx.read_edgelist('pr.edgelist', create_using=nx.DiGraph(), nodetype=int)\n",
    "\n",
    "n = G.number_of_nodes()\n",
    "\n",
    "h0 = np.ones((n,1))\n",
    "sum_h0 = h0.sum(axis=0)\n",
    "print(h0)\n",
    "print(sum_h0)"
   ]
  },
  {
   "cell_type": "code",
   "execution_count": 3,
   "metadata": {},
   "outputs": [],
   "source": [
    "def matr(g):\n",
    "    n= nx.number_of_nodes(g)\n",
    "    A = nx.adjacency_matrix(g, nodelist=range(n), weight=None)\n",
    "    A = A.todense()\n",
    "    A = A.astype(float)\n",
    "    M = A\n",
    "    A = A.transpose()\n",
    "    return A, M"
   ]
  },
  {
   "cell_type": "code",
   "execution_count": 4,
   "metadata": {},
   "outputs": [],
   "source": [
    "def update(g, v, d, k):\n",
    "    Mg = d*matr(g) + (1-d)*v\n",
    "    M = Mg\n",
    "    for i in range(0,k):\n",
    "        M *= Mg\n",
    "    M = M * v\n",
    "    return M"
   ]
  },
  {
   "cell_type": "code",
   "execution_count": 5,
   "metadata": {},
   "outputs": [
    {
     "output_type": "execute_result",
     "data": {
      "text/plain": [
       "(matrix([[0., 0., 1., 0.],\n",
       "         [1., 0., 0., 0.],\n",
       "         [1., 1., 0., 1.],\n",
       "         [0., 0., 0., 0.]]),\n",
       " matrix([[0., 1., 1., 0.],\n",
       "         [0., 0., 1., 0.],\n",
       "         [1., 0., 0., 0.],\n",
       "         [0., 0., 1., 0.]]))"
      ]
     },
     "metadata": {},
     "execution_count": 5
    }
   ],
   "source": [
    "matr(G)"
   ]
  },
  {
   "cell_type": "code",
   "execution_count": 6,
   "metadata": {},
   "outputs": [],
   "source": [
    "def HITS_update(G, h0, k):\n",
    "    A, M = matr(G)\n",
    "    auth = h0\n",
    "    for i in range(0, k):\n",
    "        auth = A*h0\n",
    "        h0 = M*auth\n",
    "        auth /= auth.sum(axis=0)\n",
    "        h0 /= h0.sum(axis=0)\n",
    "    return auth, h0"
   ]
  },
  {
   "cell_type": "code",
   "execution_count": 7,
   "metadata": {},
   "outputs": [
    {
     "output_type": "execute_result",
     "data": {
      "text/plain": [
       "(matrix([[0.2],\n",
       "         [0.2],\n",
       "         [0.6],\n",
       "         [0. ]]),\n",
       " matrix([[0.36363636],\n",
       "         [0.27272727],\n",
       "         [0.09090909],\n",
       "         [0.27272727]]))"
      ]
     },
     "metadata": {},
     "execution_count": 7
    }
   ],
   "source": [
    "HITS_update(G, h0, 1)"
   ]
  },
  {
   "cell_type": "code",
   "execution_count": null,
   "metadata": {},
   "outputs": [],
   "source": []
  }
 ]
}