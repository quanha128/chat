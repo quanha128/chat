{
 "metadata": {
  "language_info": {
   "codemirror_mode": {
    "name": "ipython",
    "version": 3
   },
   "file_extension": ".py",
   "mimetype": "text/x-python",
   "name": "python",
   "nbconvert_exporter": "python",
   "pygments_lexer": "ipython3",
   "version": "3.8.5"
  },
  "orig_nbformat": 2,
  "kernelspec": {
   "name": "python3",
   "display_name": "Python 3",
   "language": "python"
  }
 },
 "nbformat": 4,
 "nbformat_minor": 2,
 "cells": [
  {
   "cell_type": "code",
   "execution_count": 5,
   "source": [
    "import networkx as nx\n",
    "import heapq\n",
    "import matplotlib.pyplot as plt"
   ],
   "outputs": [],
   "metadata": {}
  },
  {
   "cell_type": "code",
   "execution_count": 6,
   "source": [
    "def prim(g,s):\n",
    "    X = set(g.nodes)\n",
    "    Q = []\n",
    "    pi = [0 for i in X]\n",
    "    A = []\n",
    "    D = [float('inf') for i in X]\n",
    "    D[s] = 0\n",
    "    heapq.heappush(Q, (0,s))\n",
    "    while X:\n",
    "        u = heapq.heappop(Q)\n",
    "        if D[u[1]] < u[0]:\n",
    "            continue \n",
    "        print(u[1])\n",
    "        X.remove(u[1])\n",
    "        if u[1] != s:\n",
    "            A.append((pi[u[1]],u[1]))\n",
    "        for v in [i for i in g.neighbors(u[1]) if i in X]:\n",
    "            if D[v] > u[0] + g.edges[u[1],v]['weight']:\n",
    "               D[v] = u[0] + g.edges[u[1],v]['weight']\n",
    "               pi[v] = u[1]\n",
    "               heapq.heappush(Q, (D[v],v))\n",
    "    sum = 0\n",
    "    for edge in A:\n",
    "        sum+=g.edges[edge[0],edge[1]]['weight']\n",
    "    return A,sum"
   ],
   "outputs": [],
   "metadata": {}
  },
  {
   "cell_type": "code",
   "execution_count": 15,
   "source": [
    "g=nx.read_weighted_edgelist('prim2.edgelist',nodetype=int)\n",
    "prim(g,1)"
   ],
   "outputs": [
    {
     "output_type": "stream",
     "name": "stdout",
     "text": [
      "1\n",
      "4\n",
      "5\n",
      "0\n",
      "6\n",
      "3\n",
      "2\n"
     ]
    },
    {
     "output_type": "execute_result",
     "data": {
      "text/plain": [
       "([(1, 4), (1, 5), (1, 0), (4, 6), (4, 3), (5, 2)], 23.0)"
      ]
     },
     "metadata": {},
     "execution_count": 15
    }
   ],
   "metadata": {}
  },
  {
   "cell_type": "code",
   "execution_count": 8,
   "source": [
    "g=nx.read_weighted_edgelist('dij.edgelist',nodetype=int)\n",
    "prim(g,0)"
   ],
   "outputs": [
    {
     "output_type": "stream",
     "name": "stdout",
     "text": [
      "0\n",
      "1\n",
      "7\n",
      "6\n",
      "2\n",
      "5\n",
      "8\n",
      "3\n",
      "4\n"
     ]
    },
    {
     "output_type": "execute_result",
     "data": {
      "text/plain": [
       "([(0, 1), (0, 7), (7, 6), (1, 2), (6, 5), (2, 8), (2, 3), (5, 4)], 43.0)"
      ]
     },
     "metadata": {},
     "execution_count": 8
    }
   ],
   "metadata": {}
  },
  {
   "cell_type": "code",
   "execution_count": null,
   "source": [],
   "outputs": [],
   "metadata": {}
  }
 ]
}