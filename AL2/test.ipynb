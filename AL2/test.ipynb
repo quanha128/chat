{
 "metadata": {
  "language_info": {
   "codemirror_mode": {
    "name": "ipython",
    "version": 3
   },
   "file_extension": ".py",
   "mimetype": "text/x-python",
   "name": "python",
   "nbconvert_exporter": "python",
   "pygments_lexer": "ipython3",
   "version": "3.8.10"
  },
  "orig_nbformat": 4,
  "kernelspec": {
   "name": "python3",
   "display_name": "Python 3.8.10 64-bit"
  },
  "interpreter": {
   "hash": "31f2aee4e71d21fbe5cf8b01ff0e069b9275f58929596ceb00d14d90e3e16cd6"
  }
 },
 "nbformat": 4,
 "nbformat_minor": 2,
 "cells": [
  {
   "cell_type": "code",
   "execution_count": 10,
   "source": [
    "import networkx as nx"
   ],
   "outputs": [],
   "metadata": {}
  },
  {
   "cell_type": "code",
   "execution_count": 11,
   "source": [
    "G = nx.read_weighted_edgelist('ff.edgelist', nodetype=int)\n",
    "for i in G.nodes:\n",
    "    print(i)"
   ],
   "outputs": [
    {
     "output_type": "stream",
     "name": "stdout",
     "text": [
      "0\n",
      "1\n",
      "2\n",
      "3\n",
      "4\n",
      "5\n"
     ]
    }
   ],
   "metadata": {}
  },
  {
   "cell_type": "code",
   "execution_count": 16,
   "source": [
    "import numpy as np\n",
    "\n",
    "G = nx.read_edgelist('new.edgelist', create_using=nx.DiGraph(), nodetype=int)\n",
    "n = nx.number_of_nodes(G)\n",
    "\n",
    "def matr(g):\n",
    "    n = nx.number_of_nodes(g)\n",
    "    A = nx.adjacency_matrix(g, nodelist=range(n), weight=None)\n",
    "    A = A.todense()\n",
    "    A = A.astype(float)\n",
    "    A = A.transpose()\n",
    "    cols_sum = A.sum(axis=0)\n",
    "    for i in range(0, n):\n",
    "        if (cols_sum[0, i]) == 0:\n",
    "            A[:,i] = np.ones((n,1))\n",
    "            cols_sum = A.sum(axis=0)\n",
    "        A[:,i] = A[:,i]/cols_sum[0,i]\n",
    "    return A\n",
    "\n",
    "matr(G)\n",
    "# n = nx.number_of_nodes(G)\n",
    "# A = nx.adjacency_matrix(G, nodelist=range(n), weight=None)\n",
    "# A = A.todense()\n",
    "# A = A.astype(float)\n",
    "# A"
   ],
   "outputs": [
    {
     "output_type": "execute_result",
     "data": {
      "text/plain": [
       "matrix([[0.        , 0.33333333, 0.        , 0.5       , 0.5       ],\n",
       "        [1.        , 0.        , 0.        , 0.        , 0.        ],\n",
       "        [0.        , 0.33333333, 0.        , 0.5       , 0.        ],\n",
       "        [0.        , 0.        , 0.5       , 0.        , 0.5       ],\n",
       "        [0.        , 0.33333333, 0.5       , 0.        , 0.        ]])"
      ]
     },
     "metadata": {},
     "execution_count": 16
    }
   ],
   "metadata": {}
  },
  {
   "cell_type": "code",
   "execution_count": 25,
   "source": [
    "def update(g, v, d, k):\n",
    "    Mg = d*matr(g) + (1-d)*v\n",
    "    M = Mg\n",
    "    for i in range(0,k):\n",
    "        M *= Mg\n",
    "    M = M * v\n",
    "    return M\n",
    "\n",
    "v = np.ones((n,1))/n\n",
    "\n",
    "print(v)\n",
    "\n",
    "matr(G) * v"
   ],
   "outputs": [
    {
     "output_type": "execute_result",
     "data": {
      "text/plain": [
       "matrix([[0.26666667],\n",
       "        [0.2       ],\n",
       "        [0.16666667],\n",
       "        [0.2       ],\n",
       "        [0.16666667]])"
      ]
     },
     "metadata": {},
     "execution_count": 25
    }
   ],
   "metadata": {}
  },
  {
   "cell_type": "code",
   "execution_count": null,
   "source": [
    "\n",
    "\n",
    "def project_network(G, profit):\n",
    "    n = G.number_of_nodes()\n",
    "    Gp = G.copy()\n",
    "    for e in Gp.edges():\n",
    "        Gp.edges[e]['weight'] = sum([i for i in profit if i>0]) + 1\n",
    "    for v in range(len(profit)):\n",
    "        p = profit[v]\n",
    "        if profit[v] > 0:\n",
    "            Gp.add_edge(n,v,weight=p)\n",
    "        else:\n",
    "            Gp.add_edge(v,n+1,weight=-p)\n",
    "    return Gp"
   ],
   "outputs": [],
   "metadata": {}
  }
 ]
}