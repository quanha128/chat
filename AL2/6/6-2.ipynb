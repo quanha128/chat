{
 "metadata": {
  "language_info": {
   "codemirror_mode": {
    "name": "ipython",
    "version": 3
   },
   "file_extension": ".py",
   "mimetype": "text/x-python",
   "name": "python",
   "nbconvert_exporter": "python",
   "pygments_lexer": "ipython3",
   "version": "3.8.5"
  },
  "orig_nbformat": 2,
  "kernelspec": {
   "name": "python3",
   "display_name": "Python 3",
   "language": "python"
  }
 },
 "nbformat": 4,
 "nbformat_minor": 2,
 "cells": [
  {
   "cell_type": "code",
   "execution_count": 47,
   "metadata": {},
   "outputs": [],
   "source": [
    "import networkx as nx\n",
    "import heapq\n",
    "import matplotlib.pyplot as plt"
   ]
  },
  {
   "cell_type": "code",
   "execution_count": 48,
   "metadata": {},
   "outputs": [
    {
     "output_type": "execute_result",
     "data": {
      "text/plain": [
       "7"
      ]
     },
     "metadata": {},
     "execution_count": 48
    }
   ],
   "source": [
    "G=nx.read_weighted_edgelist('bf.edgelist', create_using=nx.DiGraph(), nodetype=int)\n",
    "n = nx.number_of_nodes(G)\n",
    "n"
   ]
  },
  {
   "cell_type": "code",
   "execution_count": 49,
   "metadata": {},
   "outputs": [],
   "source": [
    "def bf(g,s):\n",
    "    D = [float('inf')] * n\n",
    "    D[s] = 0\n",
    "    for i in range(1, n):\n",
    "        D_new = D[:]\n",
    "        for u, v in g.edges():\n",
    "            Luv = g.edges[u,v]['weight']\n",
    "            if D_new[v] > D[u] + Luv:\n",
    "                D_new[v] = D[u] + Luv\n",
    "        D = D_new\n",
    "    for u, v in g.edges():\n",
    "        if D[v] > D[u] + g.edges[u,v]['weight']:\n",
    "            return (False, D)\n",
    "    return (True, D)"
   ]
  },
  {
   "cell_type": "code",
   "execution_count": 50,
   "metadata": {},
   "outputs": [
    {
     "output_type": "execute_result",
     "data": {
      "text/plain": [
       "(True, [0, 3.0, 5.0, 2.0, 4.0, 7.0, 6.0])"
      ]
     },
     "metadata": {},
     "execution_count": 50
    }
   ],
   "source": [
    "bf(G,0)"
   ]
  },
  {
   "cell_type": "code",
   "execution_count": null,
   "metadata": {},
   "outputs": [],
   "source": []
  }
 ]
}