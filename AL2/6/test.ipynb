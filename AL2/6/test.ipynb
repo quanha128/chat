{
 "metadata": {
  "language_info": {
   "codemirror_mode": {
    "name": "ipython",
    "version": 3
   },
   "file_extension": ".py",
   "mimetype": "text/x-python",
   "name": "python",
   "nbconvert_exporter": "python",
   "pygments_lexer": "ipython3",
   "version": "3.8.5"
  },
  "orig_nbformat": 2,
  "kernelspec": {
   "name": "python385jvsc74a57bd031f2aee4e71d21fbe5cf8b01ff0e069b9275f58929596ceb00d14d90e3e16cd6",
   "display_name": "Python 3.8.5 64-bit"
  },
  "metadata": {
   "interpreter": {
    "hash": "31f2aee4e71d21fbe5cf8b01ff0e069b9275f58929596ceb00d14d90e3e16cd6"
   }
  }
 },
 "nbformat": 4,
 "nbformat_minor": 2,
 "cells": [
  {
   "cell_type": "code",
   "execution_count": 4,
   "metadata": {},
   "outputs": [],
   "source": [
    "import networkx as nx\n",
    "import heapq\n",
    "import matplotlib.pyplot as plt"
   ]
  },
  {
   "cell_type": "code",
   "execution_count": 5,
   "metadata": {},
   "outputs": [],
   "source": [
    "def dij2(g,xs):\n",
    "    res = []\n",
    "    for s in xs:\n",
    "        X = set(g.nodes)\n",
    "        Q = []\n",
    "        D = [float('inf') for i in X]\n",
    "        D[s] = 0\n",
    "        heapq.heappush(Q, (0,s))\n",
    "        while X and Q:\n",
    "            u = heapq.heappop(Q)\n",
    "            try:\n",
    "                while u[1] not in X:\n",
    "                    u = heapq.heappop(Q)\n",
    "            except IndexError:\n",
    "                break\n",
    "            X.remove(u[1])\n",
    "            for v in [i for i in g.neighbors(u[1]) if i in X]:\n",
    "                if D[v] > u[0] + g.edges[u[1],v]['weight']:\n",
    "                    D[v] = u[0] + g.edges[u[1],v]['weight']\n",
    "                    heapq.heappush(Q, (D[v],v))\n",
    "        res.append(D)\n",
    "    return res"
   ]
  },
  {
   "cell_type": "code",
   "execution_count": 6,
   "metadata": {},
   "outputs": [
    {
     "output_type": "execute_result",
     "data": {
      "text/plain": [
       "[[0, 4.0, 12.0, 19.0, 22.0, 12.0, 10.0, 9.0, 14.0],\n",
       " [19.0, 15.0, 7.0, 0, 9.0, 11.0, 13.0, 14.0, 9.0],\n",
       " [12.0, 12.0, 4.0, 11.0, 10.0, 0, 2.0, 3.0, 6.0]]"
      ]
     },
     "metadata": {},
     "execution_count": 6
    }
   ],
   "source": [
    "g=nx.read_weighted_edgelist('dij.edgelist',nodetype=int)\n",
    "dij2(g,[0,3,5])"
   ]
  }
 ]
}