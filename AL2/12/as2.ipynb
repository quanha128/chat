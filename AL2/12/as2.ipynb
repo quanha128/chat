{
 "metadata": {
  "language_info": {
   "codemirror_mode": {
    "name": "ipython",
    "version": 3
   },
   "file_extension": ".py",
   "mimetype": "text/x-python",
   "name": "python",
   "nbconvert_exporter": "python",
   "pygments_lexer": "ipython3",
   "version": "3.8.5"
  },
  "orig_nbformat": 4,
  "kernelspec": {
   "name": "python3",
   "display_name": "Python 3.8.5 64-bit"
  },
  "interpreter": {
   "hash": "31f2aee4e71d21fbe5cf8b01ff0e069b9275f58929596ceb00d14d90e3e16cd6"
  }
 },
 "nbformat": 4,
 "nbformat_minor": 2,
 "cells": [
  {
   "cell_type": "code",
   "execution_count": 148,
   "metadata": {},
   "outputs": [],
   "source": [
    "import numpy as np\n",
    "from Bio import pairwise2\n",
    "from Bio.pairwise2 import format_alignment\n",
    "from Bio.SubsMat import MatrixInfo as matlist"
   ]
  },
  {
   "cell_type": "code",
   "execution_count": 149,
   "metadata": {},
   "outputs": [],
   "source": [
    "def nw(s1, s2, M, d):\n",
    "    def score_matrix(M, c1, c2):\n",
    "        if (c1,c2) in M.keys():\n",
    "            return M[(c1,c2)]\n",
    "        else:\n",
    "            return M[(c2,c1)]\n",
    "    nx = len(s1)\n",
    "    ny = len(s2)\n",
    "    D = np.zeros((nx+1, ny+1))\n",
    "    for i in range(nx+1): D[i,0] = (-d)*i\n",
    "    for j in range(ny+1): D[0,j] = (-d)*j\n",
    "    for i in range(1,nx+1):\n",
    "        for j in range(1,ny+1):\n",
    "            top = D[i, j-1]\n",
    "            left = D[i-1, j]\n",
    "            diag = D[i-1, j-1]\n",
    "            val = score_matrix(M, s1[i-1], s2[j-1])\n",
    "            D[i,j] = max(top-d, left-d, diag + val)\n",
    "    alignA = \"\"\n",
    "    alignB = \"\"\n",
    "    i=nx\n",
    "    j=ny\n",
    "    score = 0\n",
    "    while (i>0 or j>0):\n",
    "        val = score_matrix(M, s1[i-1], s2[j-1])\n",
    "        if (i>0 and j>0 and D[i,j] == D[i-1, j-1] + val):\n",
    "            score += val\n",
    "            alignA = s1[i-1] + alignA\n",
    "            alignB = s2[j-1] + alignB\n",
    "            i -= 1\n",
    "            j -= 1\n",
    "        elif (i >0 and D[i,j] == D[i-1, j] - d):\n",
    "            score -= d\n",
    "            alignA = s1[i-1] + alignA\n",
    "            alignB = \"-\" + alignB\n",
    "            i -= 1\n",
    "        else:\n",
    "            score -= d\n",
    "            alignB = s2[j-1] + alignB\n",
    "            alignA = \"-\" + alignA\n",
    "            j -= 1\n",
    "    return (alignA, alignB), score"
   ]
  },
  {
   "cell_type": "code",
   "execution_count": 150,
   "metadata": {},
   "outputs": [
    {
     "output_type": "execute_result",
     "data": {
      "text/plain": [
       "(('KELAS', '-EL-S'), 11)"
      ]
     },
     "metadata": {},
     "execution_count": 150
    }
   ],
   "source": [
    "nw('KELAS', 'ELS', matlist.blosum62, 1)"
   ]
  },
  {
   "cell_type": "code",
   "execution_count": 151,
   "metadata": {},
   "outputs": [
    {
     "output_type": "stream",
     "name": "stdout",
     "text": [
      "KELAS\n || |\n-EL-S\n  Score=11\n\n11.0\n"
     ]
    }
   ],
   "source": [
    "for a in pairwise2.align.globalds(\"KELAS\", \"ELS\", matlist.blosum62, -1, -1):\n",
    "    print(format_alignment(*a))\n",
    "    print(a[2])"
   ]
  },
  {
   "cell_type": "code",
   "execution_count": 152,
   "metadata": {},
   "outputs": [],
   "source": [
    "import pandas as pd"
   ]
  },
  {
   "cell_type": "code",
   "execution_count": 155,
   "metadata": {},
   "outputs": [
    {
     "output_type": "execute_result",
     "data": {
      "text/plain": [
       "str"
      ]
     },
     "metadata": {},
     "execution_count": 155
    }
   ],
   "source": [
    "df = pd.read_csv(\"cycsamples_en.csv\")\n",
    "cytochrome_c = df['sequence']\n",
    "\n",
    "nrow = len(df)\n",
    "type(cytochrome_c[0])"
   ]
  },
  {
   "cell_type": "code",
   "execution_count": 159,
   "metadata": {},
   "outputs": [],
   "source": [
    "result = np.zeros((nrow, nrow))\n",
    "\n",
    "for i in range(nrow):\n",
    "    for j in range(nrow):\n",
    "        result[i,j] = nw(cytochrome_c[i], cytochrome_c[j], matlist.blosum62, 1)[1]\n",
    "\n",
    "result_data = pd.DataFrame(result, index=df['name'], columns=df['name'])\n",
    "result_data.to_csv('alignment.csv', encoding=\"utf_8_sig\")"
   ]
  },
  {
   "cell_type": "code",
   "execution_count": null,
   "metadata": {},
   "outputs": [],
   "source": []
  }
 ]
}