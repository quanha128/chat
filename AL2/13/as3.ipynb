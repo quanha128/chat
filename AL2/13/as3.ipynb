{
 "metadata": {
  "language_info": {
   "codemirror_mode": {
    "name": "ipython",
    "version": 3
   },
   "file_extension": ".py",
   "mimetype": "text/x-python",
   "name": "python",
   "nbconvert_exporter": "python",
   "pygments_lexer": "ipython3",
   "version": "3.8.10"
  },
  "orig_nbformat": 4,
  "kernelspec": {
   "name": "python3",
   "display_name": "Python 3.8.5 64-bit"
  },
  "interpreter": {
   "hash": "31f2aee4e71d21fbe5cf8b01ff0e069b9275f58929596ceb00d14d90e3e16cd6"
  }
 },
 "nbformat": 4,
 "nbformat_minor": 2,
 "cells": [
  {
   "cell_type": "code",
   "execution_count": 15,
   "metadata": {},
   "outputs": [
    {
     "output_type": "stream",
     "name": "stdout",
     "text": [
      "[0, 0, 0, 0, 0, 0, 0, 0, 0, 0, 0, 0, 0, 0, 0, 0, 0, 0, 0, 0, 0, 0, 0, 0, 0, 0, 0, 0, 0, 0, 0, 0, 0, 0, 0, 0, 0, 0, 0, 0, 0, 0, 0, 0, 0, 0, 0, 0, 0, 0, 1, 0, 0, 0, 0, 0, 0, 0, 0, 0, 0, 0, 0, 0, 0, 0, 0, 0, 0, 0, 0, 0, 0, 0, 0, 0, 0, 0, 0, 0, 0, 0, 0, 0, 0, 0, 0, 0, 0, 0, 0, 0, 0, 0, 0, 0, 0, 0, 0, 0]\n                                                  *                                                 \n                                                 ***                                                \n                                                **  *                                               \n                                               ** ****                                              \n                                              **  *   *                                             \n                                             ** **** ***                                            \n                                            **  *    *  *                                           \n                                           ** ****  ******                                          \n                                          **  *   ***     *                                         \n                                         ** **** **  *   ***                                        \n                                        **  *    * **** **  *                                       \n                                       ** ****  ** *    * ****                                      \n                                      **  *   ***  **  ** *   *                                     \n                                     ** **** **  *** ***  ** ***                                    \n                                    **  *    * ***   *  ***  *  *                                   \n                                   ** ****  ** *  * *****  *******                                  \n                                  **  *   ***  **** *    ***      *                                 \n                                 ** **** **  ***    **  **  *    ***                                \n                                **  *    * ***  *  ** *** ****  **  *                               \n                               ** ****  ** *  ******  *   *   *** ****                              \n                              **  *   ***  ****     **** *** **   *   *                             \n                             ** **** **  ***   *   **    *   * * *** ***                            \n                            **  *    * ***  * *** ** *  *** ** * *   *  *                           \n                           ** ****  ** *  *** *   *  ****   *  * ** ******                          \n                          **  *   ***  ****   ** *****   * ***** *  *     *                         \n                         ** **** **  ***   * **  *    * ** *     *****   ***                        \n                        **  *    * ***  * ** * ****  ** *  **   **    * **  *                       \n                       ** ****  ** *  *** *  * *   ***  **** * ** *  ** * ****                      \n                      **  *   ***  ****   **** ** **  ***    * *  ****  * *   *                     \n                     ** **** **  ***   * **    *  * ***  *  ** ****   *** ** ***                    \n                    **  *    * ***  * ** * *  ***** *  ******  *   * **   *  *  *                   \n                   ** ****  ** *  *** *  * ****     ****     **** ** * * *********                  \n                  **  *   ***  ****   **** *   *   **   *   **    *  * * *        *                 \n                 ** **** **  ***   * **    ** *** ** * *** ** *  ***** * **      ***                \n                **  *    * ***  * ** * *  **  *   *  * *   *  ****     * * *    **  *               \n               ** ****  ** *  *** *  * **** **** ***** ** *****   *   ** * **  ** ****              \n              **  *   ***  ****   **** *    *    *     *  *    * *** **  * * ***  *   *             \n             ** **** **  ***   * **    **  ***  ***   ******  ** *   * *** * *  **** ***            \n            **  *    * ***  * ** * *  ** ***  ***  * **     ***  ** ** *   * ****    *  *           \n           ** ****  ** *  *** *  * ****  *  ***  *** * *   **  ***  *  ** ** *   *  ******          \n          **  *   ***  ****   **** *   ******  ***   * ** ** ***  ******  *  ** *****     *         \n         ** **** **  ***   * **    ** **     ***  * ** *  *  *  ***     ******  *    *   ***        \n        **  *    * ***  * ** * *  **  * *   **  *** *  **********  *   **     ****  *** **  *       \n       ** ****  ** *  *** *  * **** *** ** ** ***   ****         **** ** *   **   ***   * ****      \n      **  *   ***  ****   **** *    *   *  *  *  * **   *       **    *  ** ** * **  * ** *   *     \n     ** **** **  ***   * **    **  *** *********** * * ***     ** *  *****  *  * * *** *  ** ***    \n    **  *    * ***  * ** * *  ** ***   *           * * *  *   **  ****    ****** * *   ****  *  *   \n   ** ****  ** *  *** *  * ****  *  * ***         ** * ***** ** ***   *  **      * ** **   *******  \n  **  *   ***  ****   **** *   ****** *  *       **  * *     *  *  * ***** *    ** *  * * **      * \n ** **** **  ***   * **    ** **      *****     ** *** **   ******** *     **  **  **** * * *    ***\n"
     ]
    }
   ],
   "source": [
    "class Cellular_Automation:\n",
    "    def __init__(self, init_state, ruleset):\n",
    "        self.ruleset = ruleset\n",
    "        self.current_state = init_state\n",
    "        # print(self.current_state)\n",
    "\n",
    "    def transition(self):\n",
    "        self.next_state = self.current_state.copy()\n",
    "        # print(self.next_state)\n",
    "        le = len(self.next_state)\n",
    "        for i in range(le):\n",
    "            if i==le-1:\n",
    "                self.next_state[i] = self.ruleset[(self.current_state[i-1], self.current_state[i], self.current_state[0])]\n",
    "            else:\n",
    "                self.next_state[i] = self.ruleset[(self.current_state[i-1], self.current_state[i], self.current_state[i+1])]\n",
    "        self.current_state = self.next_state\n",
    "        return self.current_state\n",
    "\n",
    "    def __str__(self):\n",
    "        res = \"\"\n",
    "        for i in range(len(self.current_state)):\n",
    "            if self.current_state[i] == 0:\n",
    "                res += \" \"\n",
    "            else: res += \"*\"\n",
    "        return res\n",
    "\n",
    "\n",
    "ruleset = { (0,0,0):0, (0,0,1):1, (0,1,0):1,\n",
    "                         (0,1,1):1, (1,0,0):1, (1,0,1):0,\n",
    "                         (1,1,0):0, (1,1,1):0 }\n",
    "init_state = [0] * 100\n",
    "init_state[50] = 1\n",
    "print(init_state)\n",
    "\n",
    "ca = Cellular_Automation(init_state, ruleset)\n",
    "for i in range(50):\n",
    "    print(ca)\n",
    "    ca.transition()"
   ]
  }
 ]
}