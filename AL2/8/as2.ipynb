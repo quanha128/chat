{
 "metadata": {
  "language_info": {
   "codemirror_mode": {
    "name": "ipython",
    "version": 3
   },
   "file_extension": ".py",
   "mimetype": "text/x-python",
   "name": "python",
   "nbconvert_exporter": "python",
   "pygments_lexer": "ipython3",
   "version": "3.8.5"
  },
  "orig_nbformat": 2,
  "kernelspec": {
   "name": "python385jvsc74a57bd031f2aee4e71d21fbe5cf8b01ff0e069b9275f58929596ceb00d14d90e3e16cd6",
   "display_name": "Python 3.8.5 64-bit"
  },
  "metadata": {
   "interpreter": {
    "hash": "31f2aee4e71d21fbe5cf8b01ff0e069b9275f58929596ceb00d14d90e3e16cd6"
   }
  }
 },
 "nbformat": 4,
 "nbformat_minor": 2,
 "cells": [
  {
   "cell_type": "code",
   "execution_count": 8,
   "metadata": {},
   "outputs": [],
   "source": [
    "import networkx as nx\n",
    "import numpy as np"
   ]
  },
  {
   "cell_type": "code",
   "execution_count": 9,
   "metadata": {},
   "outputs": [],
   "source": [
    "G = nx.read_edgelist('pr.edgelist', create_using=nx.DiGraph(), nodetype=int)\n",
    "n= nx.number_of_nodes(G)"
   ]
  },
  {
   "cell_type": "code",
   "execution_count": 10,
   "metadata": {},
   "outputs": [],
   "source": [
    "def matr(g):\n",
    "    n= nx.number_of_nodes(g)\n",
    "    A = nx.adjacency_matrix(g, nodelist=range(n), weight=None)\n",
    "    A = A.todense()\n",
    "    A = A.astype(float)\n",
    "    A = A.transpose()\n",
    "    cols_sum = A.sum(axis=0)\n",
    "    for i in range(0, n):\n",
    "        if (cols_sum[0, i]) == 0:\n",
    "            A[:,i] = np.ones((n,1))\n",
    "            cols_sum = A.sum(axis=0)\n",
    "        A[:,i] = A[:,i]/cols_sum[0,i]\n",
    "    return A"
   ]
  },
  {
   "cell_type": "code",
   "execution_count": 11,
   "metadata": {},
   "outputs": [
    {
     "output_type": "execute_result",
     "data": {
      "text/plain": [
       "matrix([[0. , 0. , 1. , 0. ],\n",
       "        [0.5, 0. , 0. , 0. ],\n",
       "        [0.5, 1. , 0. , 1. ],\n",
       "        [0. , 0. , 0. , 0. ]])"
      ]
     },
     "metadata": {},
     "execution_count": 11
    }
   ],
   "source": [
    "matr(G)"
   ]
  },
  {
   "cell_type": "code",
   "execution_count": 12,
   "metadata": {},
   "outputs": [],
   "source": [
    "def update(g, v, d, k):\n",
    "    Mg = d*matr(g) + (1-d)*v\n",
    "    M = Mg\n",
    "    for i in range(0,k):\n",
    "        M *= Mg\n",
    "    M = M * v\n",
    "    return M"
   ]
  },
  {
   "cell_type": "code",
   "execution_count": 13,
   "metadata": {},
   "outputs": [
    {
     "output_type": "execute_result",
     "data": {
      "text/plain": [
       "matrix([[0.37252685],\n",
       "        [0.19582391],\n",
       "        [0.39414924],\n",
       "        [0.0375    ]])"
      ]
     },
     "metadata": {},
     "execution_count": 13
    }
   ],
   "source": [
    "v = np.ones((n,1))/n\n",
    "update(G, v, 0.85, 15)"
   ]
  },
  {
   "cell_type": "code",
   "execution_count": 14,
   "metadata": {},
   "outputs": [
    {
     "output_type": "stream",
     "name": "stdout",
     "text": [
      "{0: 0.372526246091333, 1: 0.19582365458881654, 2: 0.39415009931985023, 3: 0.037500000000000006}\n"
     ]
    }
   ],
   "source": [
    "pr = nx.pagerank(G, alpha=0.85)\n",
    "print(pr)"
   ]
  },
  {
   "cell_type": "code",
   "execution_count": null,
   "metadata": {},
   "outputs": [],
   "source": []
  }
 ]
}