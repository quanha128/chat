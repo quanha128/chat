{
 "cells": [
  {
   "cell_type": "markdown",
   "metadata": {},
   "source": [
    "### Sample program for crawling (JSON)  "
   ]
  },
  {
   "cell_type": "markdown",
   "metadata": {},
   "source": [
    "#### Import libraries  "
   ]
  },
  {
   "cell_type": "code",
   "execution_count": 1,
   "metadata": {},
   "outputs": [],
   "source": [
    "import requests\n",
    "from bs4 import BeautifulSoup\n",
    "import pandas as pd\n",
    "from pandas import json_normalize"
   ]
  },
  {
   "cell_type": "markdown",
   "metadata": {},
   "source": [
    "#### Parameters  "
   ]
  },
  {
   "cell_type": "code",
   "execution_count": 2,
   "metadata": {},
   "outputs": [],
   "source": [
    "# set your API key\n",
    "url = 'http://api.openweathermap.org/data/2.5/weather?lat=35.6828387&lon=139.7594549&appid={API Key}'"
   ]
  },
  {
   "cell_type": "markdown",
   "metadata": {},
   "source": [
    "#### Crawling of web page  "
   ]
  },
  {
   "cell_type": "code",
   "execution_count": 3,
   "metadata": {},
   "outputs": [
    {
     "name": "stdout",
     "output_type": "stream",
     "text": [
      "{'coord': {'lon': 139.76, 'lat': 35.68}, 'weather': [{'id': 501, 'main': 'Rain', 'description': 'moderate rain', 'icon': '10d'}, {'id': 701, 'main': 'Mist', 'description': 'mist', 'icon': '50d'}], 'base': 'stations', 'main': {'temp': 283.72, 'feels_like': 281.46, 'temp_min': 283.15, 'temp_max': 285.37, 'pressure': 1023, 'humidity': 93}, 'visibility': 4000, 'wind': {'speed': 3.1, 'deg': 320}, 'rain': {'1h': 0.69}, 'clouds': {'all': 75}, 'dt': 1606269957, 'sys': {'type': 1, 'id': 8077, 'country': 'JP', 'sunrise': 1606253206, 'sunset': 1606289370}, 'timezone': 32400, 'id': 1857654, 'name': 'Marunouchi', 'cod': 200}\n"
     ]
    }
   ],
   "source": [
    "s = requests.Session()\n",
    "r = s.get(url)\n",
    "json = r.json()\n",
    "print(json)"
   ]
  },
  {
   "cell_type": "markdown",
   "metadata": {},
   "source": [
    "#### Dic to dataframe  "
   ]
  },
  {
   "cell_type": "code",
   "execution_count": 4,
   "metadata": {},
   "outputs": [
    {
     "name": "stdout",
     "output_type": "stream",
     "text": [
      "(1, 25)\n"
     ]
    },
    {
     "data": {
      "text/html": [
       "<div>\n",
       "<style scoped>\n",
       "    .dataframe tbody tr th:only-of-type {\n",
       "        vertical-align: middle;\n",
       "    }\n",
       "\n",
       "    .dataframe tbody tr th {\n",
       "        vertical-align: top;\n",
       "    }\n",
       "\n",
       "    .dataframe thead th {\n",
       "        text-align: right;\n",
       "    }\n",
       "</style>\n",
       "<table border=\"1\" class=\"dataframe\">\n",
       "  <thead>\n",
       "    <tr style=\"text-align: right;\">\n",
       "      <th></th>\n",
       "      <th>weather</th>\n",
       "      <th>base</th>\n",
       "      <th>visibility</th>\n",
       "      <th>dt</th>\n",
       "      <th>timezone</th>\n",
       "      <th>id</th>\n",
       "      <th>name</th>\n",
       "      <th>cod</th>\n",
       "      <th>coord.lon</th>\n",
       "      <th>coord.lat</th>\n",
       "      <th>...</th>\n",
       "      <th>main.humidity</th>\n",
       "      <th>wind.speed</th>\n",
       "      <th>wind.deg</th>\n",
       "      <th>rain.1h</th>\n",
       "      <th>clouds.all</th>\n",
       "      <th>sys.type</th>\n",
       "      <th>sys.id</th>\n",
       "      <th>sys.country</th>\n",
       "      <th>sys.sunrise</th>\n",
       "      <th>sys.sunset</th>\n",
       "    </tr>\n",
       "  </thead>\n",
       "  <tbody>\n",
       "    <tr>\n",
       "      <th>0</th>\n",
       "      <td>[{'id': 501, 'main': 'Rain', 'description': 'm...</td>\n",
       "      <td>stations</td>\n",
       "      <td>4000</td>\n",
       "      <td>1606269957</td>\n",
       "      <td>32400</td>\n",
       "      <td>1857654</td>\n",
       "      <td>Marunouchi</td>\n",
       "      <td>200</td>\n",
       "      <td>139.76</td>\n",
       "      <td>35.68</td>\n",
       "      <td>...</td>\n",
       "      <td>93</td>\n",
       "      <td>3.1</td>\n",
       "      <td>320</td>\n",
       "      <td>0.69</td>\n",
       "      <td>75</td>\n",
       "      <td>1</td>\n",
       "      <td>8077</td>\n",
       "      <td>JP</td>\n",
       "      <td>1606253206</td>\n",
       "      <td>1606289370</td>\n",
       "    </tr>\n",
       "  </tbody>\n",
       "</table>\n",
       "<p>1 rows × 25 columns</p>\n",
       "</div>"
      ],
      "text/plain": [
       "                                             weather      base  visibility  \\\n",
       "0  [{'id': 501, 'main': 'Rain', 'description': 'm...  stations        4000   \n",
       "\n",
       "           dt  timezone       id        name  cod  coord.lon  coord.lat  ...  \\\n",
       "0  1606269957     32400  1857654  Marunouchi  200     139.76      35.68  ...   \n",
       "\n",
       "   main.humidity  wind.speed  wind.deg  rain.1h  clouds.all  sys.type  sys.id  \\\n",
       "0             93         3.1       320     0.69          75         1    8077   \n",
       "\n",
       "   sys.country  sys.sunrise  sys.sunset  \n",
       "0           JP   1606253206  1606289370  \n",
       "\n",
       "[1 rows x 25 columns]"
      ]
     },
     "metadata": {},
     "output_type": "display_data"
    }
   ],
   "source": [
    "df_json = json_normalize(json)\n",
    "print(df_json.shape)\n",
    "display(df_json)"
   ]
  },
  {
   "cell_type": "markdown",
   "metadata": {},
   "source": [
    "#### Get info from df  "
   ]
  },
  {
   "cell_type": "code",
   "execution_count": 5,
   "metadata": {},
   "outputs": [
    {
     "name": "stdout",
     "output_type": "stream",
     "text": [
      "Rain\n",
      "Mist\n"
     ]
    }
   ],
   "source": [
    "fc = df_json.at[0, 'weather']\n",
    "for i in range(len(fc)):\n",
    "    print(fc[i]['main'])"
   ]
  },
  {
   "cell_type": "code",
   "execution_count": null,
   "metadata": {},
   "outputs": [],
   "source": []
  }
 ],
 "metadata": {
  "kernelspec": {
   "display_name": "Python 3",
   "language": "python",
   "name": "python3"
  },
  "language_info": {
   "codemirror_mode": {
    "name": "ipython",
    "version": 3
   },
   "file_extension": ".py",
   "mimetype": "text/x-python",
   "name": "python",
   "nbconvert_exporter": "python",
   "pygments_lexer": "ipython3",
   "version": "3.8.6"
  }
 },
 "nbformat": 4,
 "nbformat_minor": 4
}
