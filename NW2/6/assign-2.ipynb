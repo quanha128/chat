{
 "metadata": {
  "language_info": {
   "codemirror_mode": {
    "name": "ipython",
    "version": 3
   },
   "file_extension": ".py",
   "mimetype": "text/x-python",
   "name": "python",
   "nbconvert_exporter": "python",
   "pygments_lexer": "ipython3",
   "version": "3.8.5"
  },
  "orig_nbformat": 2,
  "kernelspec": {
   "name": "python3",
   "display_name": "Python 3",
   "language": "python"
  }
 },
 "nbformat": 4,
 "nbformat_minor": 2,
 "cells": [
  {
   "cell_type": "code",
   "execution_count": 1,
   "metadata": {},
   "outputs": [],
   "source": [
    "import networkx as nx\n",
    "import heapq\n",
    "import matplotlib.pyplot as plt"
   ]
  },
  {
   "cell_type": "code",
   "execution_count": 2,
   "metadata": {},
   "outputs": [
    {
     "output_type": "stream",
     "name": "stdout",
     "text": [
      "[[(1, 2), (2, 3), (3, 4)], [(1, 2), (2, 4)], [(1, 3), (3, 4)]]\n[[(2, 3), (3, 4)], [(2, 4)]]\n[[(1, 2), (2, 3)], [(1, 3)]]\n"
     ]
    }
   ],
   "source": [
    "G=nx.read_weighted_edgelist('bf.edgelist', create_using=nx.DiGraph(), nodetype=int)\n",
    "path1_4 = nx.all_simple_edge_paths(G, source=1, target=4)\n",
    "path2_4 = nx.all_simple_edge_paths(G, source=2, target=4)\n",
    "path1_3 = nx.all_simple_edge_paths(G, source=1, target=3)\n",
    "node1_4 = nx.all_simple_paths(G, source=1, target=4)\n",
    "node2_4 = nx.all_simple_paths(G, source=2, target=4)\n",
    "node1_3 = nx.all_simple_paths(G, source=1, target=3)\n",
    "rt1 = []\n",
    "rt2 = []\n",
    "rt3 = []\n",
    "for i in path1_4:\n",
    "    rt1.append(list(i))\n",
    "for i in path2_4:\n",
    "    rt2.append(list(i))\n",
    "for i in path1_3:\n",
    "    rt3.append(list(i))\n",
    "print(rt1)\n",
    "print(rt2)\n",
    "print(rt3)"
   ]
  },
  {
   "cell_type": "code",
   "execution_count": 3,
   "metadata": {},
   "outputs": [],
   "source": [
    "res = { i : 0 for i in G.edges() }"
   ]
  },
  {
   "cell_type": "code",
   "execution_count": 4,
   "metadata": {},
   "outputs": [
    {
     "output_type": "stream",
     "name": "stdout",
     "text": [
      "[(1, 2), (2, 3), (3, 4)] [(2, 3), (3, 4)] [(1, 2), (2, 3)] {(1, 2): 6, (1, 3): 0, (2, 3): 9, (2, 4): 0, (3, 4): 5} False\n[(1, 2), (2, 3), (3, 4)] [(2, 3), (3, 4)] [(1, 3)] {(1, 2): 2, (1, 3): 4, (2, 3): 5, (2, 4): 0, (3, 4): 5} False\n[(1, 2), (2, 3), (3, 4)] [(2, 4)] [(1, 2), (2, 3)] {(1, 2): 6, (1, 3): 0, (2, 3): 6, (2, 4): 3, (3, 4): 2} False\n[(1, 2), (2, 3), (3, 4)] [(2, 4)] [(1, 3)] {(1, 2): 2, (1, 3): 4, (2, 3): 2, (2, 4): 3, (3, 4): 2} True\n[(1, 2), (2, 4)] [(2, 3), (3, 4)] [(1, 2), (2, 3)] {(1, 2): 6, (1, 3): 0, (2, 3): 7, (2, 4): 2, (3, 4): 3} False\n[(1, 2), (2, 4)] [(2, 3), (3, 4)] [(1, 3)] {(1, 2): 2, (1, 3): 4, (2, 3): 3, (2, 4): 2, (3, 4): 3} True\n[(1, 2), (2, 4)] [(2, 4)] [(1, 2), (2, 3)] {(1, 2): 6, (1, 3): 0, (2, 3): 4, (2, 4): 5, (3, 4): 0} False\n[(1, 2), (2, 4)] [(2, 4)] [(1, 3)] {(1, 2): 2, (1, 3): 4, (2, 3): 0, (2, 4): 5, (3, 4): 0} False\n[(1, 3), (3, 4)] [(2, 3), (3, 4)] [(1, 2), (2, 3)] {(1, 2): 4, (1, 3): 2, (2, 3): 7, (2, 4): 0, (3, 4): 5} False\n[(1, 3), (3, 4)] [(2, 3), (3, 4)] [(1, 3)] {(1, 2): 0, (1, 3): 6, (2, 3): 3, (2, 4): 0, (3, 4): 5} False\n[(1, 3), (3, 4)] [(2, 4)] [(1, 2), (2, 3)] {(1, 2): 4, (1, 3): 2, (2, 3): 4, (2, 4): 3, (3, 4): 2} True\n[(1, 3), (3, 4)] [(2, 4)] [(1, 3)] {(1, 2): 0, (1, 3): 6, (2, 3): 0, (2, 4): 3, (3, 4): 2} False\n"
     ]
    }
   ],
   "source": [
    "flag = True\n",
    "for e1 in rt1:\n",
    "    for e2 in rt2:\n",
    "        for e3 in rt3:\n",
    "            for i in e1:\n",
    "                res[i]+=2\n",
    "            for j in e2:\n",
    "                res[j]+=3\n",
    "            for k in e3:\n",
    "                res[k]+=4\n",
    "            for e in res:\n",
    "                if res[e] > G.edges[e]['weight']:\n",
    "                    flag &= False\n",
    "            print(e1,e2,e3,res, flag)\n",
    "            for i in res:\n",
    "                res[i] = 0\n",
    "            flag = True"
   ]
  },
  {
   "cell_type": "code",
   "execution_count": null,
   "metadata": {},
   "outputs": [],
   "source": []
  }
 ]
}